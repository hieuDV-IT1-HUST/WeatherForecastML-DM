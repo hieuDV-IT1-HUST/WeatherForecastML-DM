{
 "cells": [
  {
   "cell_type": "code",
   "execution_count": 5,
   "id": "a42cc4ab",
   "metadata": {},
   "outputs": [
    {
     "name": "stdout",
     "output_type": "stream",
     "text": [
      "\n",
      "[INFO] Running features filtering for target: temperature_2m_max\n",
      "[INFO] The number of remaining features after proxying: 51\n"
     ]
    },
    {
     "name": "stderr",
     "output_type": "stream",
     "text": [
      "c:\\Users\\ADMIN\\MyProject\\School_Projects\\WeatherForecastML-DM\\.venv\\Lib\\site-packages\\statsmodels\\stats\\outliers_influence.py:197: RuntimeWarning: divide by zero encountered in scalar divide\n",
      "  vif = 1. / (1. - r_squared_i)\n"
     ]
    },
    {
     "name": "stdout",
     "output_type": "stream",
     "text": [
      "[INFO] Detecting redundant features...\n",
      "[INFO] Detected redundant features: cloud_cover_min, cloud_cover_mean, cloud_cover_max. Removing cloud_cover_mean.\n",
      "[INFO] Removed redundant mean feature: cloud_cover_mean\n",
      "[INFO] Final selected features: ['cloud_cover_max', 'cloud_cover_min', 'precipitation_hours', 'season_cos', 'season_sin', 'wind_gusts_10m_max', 'wind_gusts_10m_min', 'wind_speed_10m_min', 'winddirection_10m_dominant']\n",
      "[INFO] Saved all artifacts to: C:\\Users\\ADMIN\\MyProject\\School_Projects\\WeatherForecastML-DM\\data\\trained_data\\boruta\\temperature_2m_max\n",
      "\n",
      "[INFO] Running features filtering for target: apparent_temperature_min\n",
      "[INFO] The number of remaining features after proxying: 49\n"
     ]
    },
    {
     "name": "stderr",
     "output_type": "stream",
     "text": [
      "c:\\Users\\ADMIN\\MyProject\\School_Projects\\WeatherForecastML-DM\\.venv\\Lib\\site-packages\\statsmodels\\stats\\outliers_influence.py:197: RuntimeWarning: divide by zero encountered in scalar divide\n",
      "  vif = 1. / (1. - r_squared_i)\n"
     ]
    },
    {
     "name": "stdout",
     "output_type": "stream",
     "text": [
      "[INFO] Detecting redundant features...\n",
      "[INFO] Detected redundant features: cloud_cover_min, cloud_cover_mean, cloud_cover_max. Removing cloud_cover_mean.\n",
      "[INFO] Removed redundant mean feature: cloud_cover_mean\n",
      "[INFO] Final selected features: ['cloud_cover_max', 'cloud_cover_min', 'precipitation_hours', 'season_cos', 'season_sin', 'wind_gusts_10m_max', 'wind_gusts_10m_min', 'wind_speed_10m_min', 'winddirection_10m_dominant']\n",
      "[INFO] Saved all artifacts to: C:\\Users\\ADMIN\\MyProject\\School_Projects\\WeatherForecastML-DM\\data\\trained_data\\boruta\\apparent_temperature_min\n",
      "\n",
      "[INFO] Running features filtering for target: relative_humidity_2m_max\n",
      "[INFO] The number of remaining features after proxying: 51\n"
     ]
    },
    {
     "name": "stderr",
     "output_type": "stream",
     "text": [
      "c:\\Users\\ADMIN\\MyProject\\School_Projects\\WeatherForecastML-DM\\.venv\\Lib\\site-packages\\statsmodels\\stats\\outliers_influence.py:197: RuntimeWarning: divide by zero encountered in scalar divide\n",
      "  vif = 1. / (1. - r_squared_i)\n"
     ]
    },
    {
     "name": "stdout",
     "output_type": "stream",
     "text": [
      "[INFO] Detecting redundant features...\n",
      "[INFO] Detected redundant features: cloud_cover_min, cloud_cover_mean, cloud_cover_max. Removing cloud_cover_mean.\n",
      "[INFO] Removed redundant mean feature: cloud_cover_mean\n",
      "[INFO] Final selected features: ['cloud_cover_max', 'cloud_cover_min', 'precipitation_hours', 'season_cos', 'season_sin', 'wind_gusts_10m_max', 'wind_gusts_10m_min', 'wind_speed_10m_min', 'winddirection_10m_dominant']\n",
      "[INFO] Saved all artifacts to: C:\\Users\\ADMIN\\MyProject\\School_Projects\\WeatherForecastML-DM\\data\\trained_data\\boruta\\relative_humidity_2m_max\n",
      "\n",
      "[INFO] Running features filtering for target: wind_speed_10m_max\n",
      "[INFO] The number of remaining features after proxying: 51\n"
     ]
    },
    {
     "name": "stderr",
     "output_type": "stream",
     "text": [
      "c:\\Users\\ADMIN\\MyProject\\School_Projects\\WeatherForecastML-DM\\.venv\\Lib\\site-packages\\statsmodels\\stats\\outliers_influence.py:197: RuntimeWarning: divide by zero encountered in scalar divide\n",
      "  vif = 1. / (1. - r_squared_i)\n"
     ]
    },
    {
     "name": "stdout",
     "output_type": "stream",
     "text": [
      "[INFO] Detecting redundant features...\n",
      "[INFO] Detected redundant features: cloud_cover_min, cloud_cover_mean, cloud_cover_max. Removing cloud_cover_mean.\n",
      "[INFO] Removed redundant mean feature: cloud_cover_mean\n",
      "[INFO] Final selected features: ['cloud_cover_max', 'cloud_cover_min', 'precipitation_hours', 'season_cos', 'season_sin', 'wind_gusts_10m_max', 'wind_gusts_10m_min', 'wind_speed_10m_min', 'winddirection_10m_dominant']\n",
      "[INFO] Saved all artifacts to: C:\\Users\\ADMIN\\MyProject\\School_Projects\\WeatherForecastML-DM\\data\\trained_data\\boruta\\wind_speed_10m_max\n",
      "\n",
      "[INFO] Running features filtering for target: winddirection_10m_dominant\n",
      "[INFO] The number of remaining features after proxying: 51\n"
     ]
    },
    {
     "name": "stderr",
     "output_type": "stream",
     "text": [
      "c:\\Users\\ADMIN\\MyProject\\School_Projects\\WeatherForecastML-DM\\.venv\\Lib\\site-packages\\statsmodels\\stats\\outliers_influence.py:197: RuntimeWarning: divide by zero encountered in scalar divide\n",
      "  vif = 1. / (1. - r_squared_i)\n"
     ]
    },
    {
     "name": "stdout",
     "output_type": "stream",
     "text": [
      "[INFO] Detecting redundant features...\n",
      "[INFO] Detected redundant features: cloud_cover_min, cloud_cover_mean, cloud_cover_max. Removing cloud_cover_mean.\n",
      "[INFO] Removed redundant mean feature: cloud_cover_mean\n",
      "[INFO] Final selected features: ['cloud_cover_max', 'cloud_cover_min', 'precipitation_hours', 'season_cos', 'season_sin', 'wind_gusts_10m_max', 'wind_gusts_10m_min', 'wind_speed_10m_min']\n",
      "[INFO] Saved all artifacts to: C:\\Users\\ADMIN\\MyProject\\School_Projects\\WeatherForecastML-DM\\data\\trained_data\\boruta\\winddirection_10m_dominant\n",
      "\n",
      "[INFO] Running features filtering for target: rain_sum\n",
      "[INFO] The number of remaining features after proxying: 50\n"
     ]
    },
    {
     "name": "stderr",
     "output_type": "stream",
     "text": [
      "c:\\Users\\ADMIN\\MyProject\\School_Projects\\WeatherForecastML-DM\\.venv\\Lib\\site-packages\\statsmodels\\stats\\outliers_influence.py:197: RuntimeWarning: divide by zero encountered in scalar divide\n",
      "  vif = 1. / (1. - r_squared_i)\n"
     ]
    },
    {
     "name": "stdout",
     "output_type": "stream",
     "text": [
      "[INFO] Detecting redundant features...\n",
      "[INFO] Detected redundant features: cloud_cover_min, cloud_cover_mean, cloud_cover_max. Removing cloud_cover_mean.\n",
      "[INFO] Removed redundant mean feature: cloud_cover_mean\n",
      "[INFO] Final selected features: ['cloud_cover_max', 'cloud_cover_min', 'precipitation_hours', 'season_cos', 'season_sin', 'wind_gusts_10m_max', 'wind_gusts_10m_min', 'wind_speed_10m_min', 'winddirection_10m_dominant']\n",
      "[INFO] Saved all artifacts to: C:\\Users\\ADMIN\\MyProject\\School_Projects\\WeatherForecastML-DM\\data\\trained_data\\boruta\\rain_sum\n",
      "\n",
      "[INFO] Running features filtering for target: shortwave_radiation_sum\n",
      "[INFO] The number of remaining features after proxying: 51\n"
     ]
    },
    {
     "name": "stderr",
     "output_type": "stream",
     "text": [
      "c:\\Users\\ADMIN\\MyProject\\School_Projects\\WeatherForecastML-DM\\.venv\\Lib\\site-packages\\statsmodels\\stats\\outliers_influence.py:197: RuntimeWarning: divide by zero encountered in scalar divide\n",
      "  vif = 1. / (1. - r_squared_i)\n"
     ]
    },
    {
     "name": "stdout",
     "output_type": "stream",
     "text": [
      "[INFO] Detecting redundant features...\n",
      "[INFO] Detected redundant features: cloud_cover_min, cloud_cover_mean, cloud_cover_max. Removing cloud_cover_mean.\n",
      "[INFO] Removed redundant mean feature: cloud_cover_mean\n",
      "[INFO] Final selected features: ['cloud_cover_max', 'cloud_cover_min', 'precipitation_hours', 'season_cos', 'season_sin', 'wind_gusts_10m_max', 'wind_gusts_10m_min', 'wind_speed_10m_min', 'winddirection_10m_dominant']\n",
      "[INFO] Saved all artifacts to: C:\\Users\\ADMIN\\MyProject\\School_Projects\\WeatherForecastML-DM\\data\\trained_data\\boruta\\shortwave_radiation_sum\n",
      "\n",
      "✅ DONE: Feature selection and saving complete for all target variables.\n"
     ]
    }
   ],
   "source": [
    "import os\n",
    "import json\n",
    "import pandas as pd\n",
    "import joblib\n",
    "from statsmodels.stats.outliers_influence import variance_inflation_factor\n",
    "from sklearn.preprocessing import StandardScaler\n",
    "from sklearn.compose import ColumnTransformer\n",
    "from pathlib import Path\n",
    "\n",
    "ROOT = Path(os.getcwd()).resolve().parent.parent\n",
    "DATA = ROOT / \"data\"\n",
    "TRAINED_DATA = DATA / \"trained_data\"\n",
    "\n",
    "METHOD = \"Boruta\"\n",
    "\n",
    "# Load dữ liệu\n",
    "df = pd.read_csv(\"../../data/processed/clean_daily_weather.csv\")\n",
    "\n",
    "def remove_redundant_mean_features(features):\n",
    "    \"\"\"\n",
    "    Loại bỏ các đặc trưng *_mean nếu đã có cả *_min và *_max tương ứng.\n",
    "\n",
    "    Args:\n",
    "        features (list): Danh sách tên các đặc trưng đã chọn.\n",
    "\n",
    "    Returns:\n",
    "        list: Danh sách đặc trưng sau khi loại bỏ các *_mean dư thừa.\n",
    "    \"\"\"\n",
    "    features_set = set(features)\n",
    "    cleaned_features = features.copy()\n",
    "\n",
    "    # Tìm tất cả các nhóm có dạng <prefix>_min, <prefix>_mean, <prefix>_max\n",
    "    for feature in features:\n",
    "        if feature.endswith(\"_mean\"):\n",
    "            prefix = feature[:-5]  # Bỏ \"_mean\"\n",
    "            min_feat = f\"{prefix}_min\"\n",
    "            max_feat = f\"{prefix}_max\"\n",
    "            if min_feat in features_set and max_feat in features_set:\n",
    "                print(f\"[INFO] Detected redundant features: {min_feat}, {feature}, {max_feat}. Removing {feature}.\")\n",
    "                cleaned_features.remove(feature)\n",
    "                print(f\"[INFO] Removed redundant mean feature: {feature}\")\n",
    "\n",
    "    return cleaned_features\n",
    "\n",
    "# Danh sách các biến mục tiêu\n",
    "target_variables = [\n",
    "    \"temperature_2m_max\",\n",
    "    \"apparent_temperature_min\",\n",
    "    \"relative_humidity_2m_max\",\n",
    "    \"wind_speed_10m_max\",\n",
    "    \"winddirection_10m_dominant\",\n",
    "    \"rain_sum\",\n",
    "    \"shortwave_radiation_sum\"\n",
    "]\n",
    "\n",
    "# Duyệt qua từng mục tiêu\n",
    "for target_variable in target_variables:\n",
    "    print(f\"\\n[INFO] Running features filtering for target: {target_variable}\")\n",
    "    # Tính tương quan với biến mục tiêu\n",
    "    corr_with_target = df.corr(numeric_only=True)[target_variable].drop(target_variable)\n",
    "\n",
    "    # Giữ lại các biến có tương quan < 0.97\n",
    "    safe_features = corr_with_target[corr_with_target.abs() < 0.99].index.tolist()\n",
    "\n",
    "    categorical_to_force_keep = [\"season\"]\n",
    "    for cat in categorical_to_force_keep:\n",
    "        if cat in df.columns and cat not in safe_features:\n",
    "            safe_features.append(cat)\n",
    "\n",
    "    print(f\"[INFO] The number of remaining features after proxying: {len(safe_features)}\")\n",
    "\n",
    "    # Chia dữ liệu train/test theo thời gian: 80% train, 20% test\n",
    "    split_index = int(len(df) * 0.8)\n",
    "    train_df = df.iloc[:split_index]\n",
    "    test_df = df.iloc[split_index:]\n",
    "    \n",
    "    X_corr = df[safe_features]\n",
    "    X_scaled = StandardScaler().fit_transform(X_corr)\n",
    "\n",
    "    vif = pd.DataFrame()\n",
    "    vif[\"feature\"] = safe_features\n",
    "    vif[\"VIF\"] = [variance_inflation_factor(X_scaled, i) for i in range(X_scaled.shape[1])]\n",
    "\n",
    "    # Giữ lại những biến có VIF thấp hơn ngưỡng < 10\n",
    "    vif_selected = vif[vif[\"VIF\"] < 10][\"feature\"].tolist()\n",
    "\n",
    "    # Gộp vào kết quả cuối cùng\n",
    "    selected_features = sorted(set(vif_selected + [\"season_sin\", \"season_cos\"]))\n",
    "    print(f\"[INFO] Detecting redundant features...\")\n",
    "    selected_features = remove_redundant_mean_features(selected_features)\n",
    "    print(\"[INFO] Final selected features:\", selected_features)\n",
    "\n",
    "\n",
    "    # Tách lại theo đặc trưng được chọn cho train/test\n",
    "    X_train = train_df[selected_features]\n",
    "    X_test = test_df[selected_features]\n",
    "    y_train = train_df[target_variable]\n",
    "    y_test = test_df[target_variable]\n",
    "\n",
    "    # Tạo pipeline chính\n",
    "    preprocessor = ColumnTransformer(transformers=[(\"num\", StandardScaler(), selected_features)])\n",
    "    target_output_dir = TRAINED_DATA / METHOD.lower() / target_variable\n",
    "    target_output_dir.mkdir(parents=True, exist_ok=True)\n",
    "    \n",
    "    # Lưu dữ liệu\n",
    "    joblib.dump(X_train, target_output_dir / \"X_train.pkl\")\n",
    "    joblib.dump(X_test, target_output_dir / \"X_test.pkl\")\n",
    "    joblib.dump(y_train, target_output_dir / \"y_train.pkl\")\n",
    "    joblib.dump(y_test, target_output_dir / \"y_test.pkl\")\n",
    "    joblib.dump(preprocessor, target_output_dir / \"preprocessor.pkl\")\n",
    "    with open(target_output_dir / \"selected_features.json\", \"w\") as f:\n",
    "        json.dump(selected_features, f, indent=2)\n",
    "\n",
    "    print(f\"[INFO] Saved all artifacts to: {target_output_dir}\")\n",
    "    \n",
    "    test_df = test_df.copy()\n",
    "    test_df[\"date\"] = df.iloc[split_index:][\"date\"].values\n",
    "    test_df[target_variable] = y_test.values\n",
    "    test_df.to_csv(target_output_dir / \"test_df.csv\", index=False)\n",
    "\n",
    "print(\"\\n✅ DONE: Feature selection and saving complete for all target variables.\")"
   ]
  },
  {
   "cell_type": "code",
   "execution_count": null,
   "id": "4cfa156e",
   "metadata": {},
   "outputs": [],
   "source": []
  }
 ],
 "metadata": {
  "kernelspec": {
   "display_name": ".venv",
   "language": "python",
   "name": "python3"
  },
  "language_info": {
   "codemirror_mode": {
    "name": "ipython",
    "version": 3
   },
   "file_extension": ".py",
   "mimetype": "text/x-python",
   "name": "python",
   "nbconvert_exporter": "python",
   "pygments_lexer": "ipython3",
   "version": "3.13.3"
  }
 },
 "nbformat": 4,
 "nbformat_minor": 5
}
