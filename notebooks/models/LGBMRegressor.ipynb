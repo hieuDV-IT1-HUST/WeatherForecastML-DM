{
 "cells": [
  {
   "cell_type": "code",
   "execution_count": 1,
   "id": "15c61587",
   "metadata": {},
   "outputs": [],
   "source": [
    "import numpy as np\n",
    "import pandas as pd\n",
    "import joblib\n",
    "from lightgbm import LGBMRegressor\n",
    "from statsmodels.stats.outliers_influence import variance_inflation_factor\n",
    "from sklearn.metrics import mean_absolute_error, mean_squared_error, r2_score\n",
    "from sklearn.model_selection import TimeSeriesSplit, cross_val_score\n",
    "from sklearn.pipeline import Pipeline\n",
    "import os\n",
    "import sys\n",
    "from pathlib import Path\n",
    "\n",
    "path = Path(os.getcwd()).resolve().parent.parent\n",
    "if path not in sys.path:\n",
    "    sys.path.append(str(path))\n",
    "\n",
    "from src.data.save_results import save_model_scores, save_model_predictions\n",
    "from src.utils.data_loader import load_preprocessed_data\n",
    "\n",
    "import matplotlib.pyplot as plt"
   ]
  },
  {
   "cell_type": "code",
   "execution_count": 2,
   "id": "38f58b90",
   "metadata": {},
   "outputs": [],
   "source": [
    "DATA = path / \"data\"\n",
    "TRAINED_DATA = DATA / \"trained_data\"\n",
    "MODELS = DATA / \"models\"\n"
   ]
  },
  {
   "cell_type": "code",
   "execution_count": null,
   "id": "a7e773fd",
   "metadata": {},
   "outputs": [
    {
     "name": "stdout",
     "output_type": "stream",
     "text": [
      "[LightGBM] [Info] Auto-choosing row-wise multi-threading, the overhead of testing was 0.005553 seconds.\n",
      "You can set `force_row_wise=true` to remove the overhead.\n",
      "And if memory is not enough, you can set `force_col_wise=true`.\n",
      "[LightGBM] [Info] Total Bins 1711\n",
      "[LightGBM] [Info] Number of data points in the train set: 99703, number of used features: 12\n",
      "[LightGBM] [Info] Start training from score 23.346327\n"
     ]
    },
    {
     "name": "stderr",
     "output_type": "stream",
     "text": [
      "c:\\Users\\ADMIN\\MyProject\\School_Projects\\WeatherForecastML-DM\\.venv\\Lib\\site-packages\\sklearn\\utils\\validation.py:2739: UserWarning: X does not have valid feature names, but LGBMRegressor was fitted with feature names\n",
      "  warnings.warn(\n"
     ]
    },
    {
     "name": "stdout",
     "output_type": "stream",
     "text": [
      "[LightGBM] [Info] Auto-choosing col-wise multi-threading, the overhead of testing was 0.033264 seconds.\n",
      "You can set `force_col_wise=true` to remove the overhead.\n",
      "[LightGBM] [Info] Total Bins 1722\n",
      "[LightGBM] [Info] Number of data points in the train set: 199403, number of used features: 12\n",
      "[LightGBM] [Info] Start training from score 23.312128\n"
     ]
    },
    {
     "name": "stderr",
     "output_type": "stream",
     "text": [
      "c:\\Users\\ADMIN\\MyProject\\School_Projects\\WeatherForecastML-DM\\.venv\\Lib\\site-packages\\sklearn\\utils\\validation.py:2739: UserWarning: X does not have valid feature names, but LGBMRegressor was fitted with feature names\n",
      "  warnings.warn(\n"
     ]
    },
    {
     "name": "stdout",
     "output_type": "stream",
     "text": [
      "[LightGBM] [Info] Auto-choosing row-wise multi-threading, the overhead of testing was 0.012449 seconds.\n",
      "You can set `force_row_wise=true` to remove the overhead.\n",
      "And if memory is not enough, you can set `force_col_wise=true`.\n",
      "[LightGBM] [Info] Total Bins 1727\n",
      "[LightGBM] [Info] Number of data points in the train set: 299103, number of used features: 13\n",
      "[LightGBM] [Info] Start training from score 23.152913\n"
     ]
    },
    {
     "name": "stderr",
     "output_type": "stream",
     "text": [
      "c:\\Users\\ADMIN\\MyProject\\School_Projects\\WeatherForecastML-DM\\.venv\\Lib\\site-packages\\sklearn\\utils\\validation.py:2739: UserWarning: X does not have valid feature names, but LGBMRegressor was fitted with feature names\n",
      "  warnings.warn(\n"
     ]
    },
    {
     "name": "stdout",
     "output_type": "stream",
     "text": [
      "[LightGBM] [Info] Auto-choosing col-wise multi-threading, the overhead of testing was 0.064867 seconds.\n",
      "You can set `force_col_wise=true` to remove the overhead.\n",
      "[LightGBM] [Info] Total Bins 1726\n",
      "[LightGBM] [Info] Number of data points in the train set: 398803, number of used features: 13\n",
      "[LightGBM] [Info] Start training from score 23.131339\n"
     ]
    },
    {
     "name": "stderr",
     "output_type": "stream",
     "text": [
      "c:\\Users\\ADMIN\\MyProject\\School_Projects\\WeatherForecastML-DM\\.venv\\Lib\\site-packages\\sklearn\\utils\\validation.py:2739: UserWarning: X does not have valid feature names, but LGBMRegressor was fitted with feature names\n",
      "  warnings.warn(\n"
     ]
    },
    {
     "name": "stdout",
     "output_type": "stream",
     "text": [
      "[LightGBM] [Info] Auto-choosing col-wise multi-threading, the overhead of testing was 0.072145 seconds.\n",
      "You can set `force_col_wise=true` to remove the overhead.\n",
      "[LightGBM] [Info] Total Bins 1731\n",
      "[LightGBM] [Info] Number of data points in the train set: 498503, number of used features: 13\n",
      "[LightGBM] [Info] Start training from score 23.194751\n"
     ]
    },
    {
     "name": "stderr",
     "output_type": "stream",
     "text": [
      "c:\\Users\\ADMIN\\MyProject\\School_Projects\\WeatherForecastML-DM\\.venv\\Lib\\site-packages\\sklearn\\utils\\validation.py:2739: UserWarning: X does not have valid feature names, but LGBMRegressor was fitted with feature names\n",
      "  warnings.warn(\n"
     ]
    },
    {
     "name": "stdout",
     "output_type": "stream",
     "text": [
      "[LightGBM] [Info] Auto-choosing col-wise multi-threading, the overhead of testing was 0.021397 seconds.\n",
      "You can set `force_col_wise=true` to remove the overhead.\n",
      "[LightGBM] [Info] Total Bins 1711\n",
      "[LightGBM] [Info] Number of data points in the train set: 99703, number of used features: 12\n",
      "[LightGBM] [Info] Start training from score 23.346327\n"
     ]
    },
    {
     "name": "stderr",
     "output_type": "stream",
     "text": [
      "c:\\Users\\ADMIN\\MyProject\\School_Projects\\WeatherForecastML-DM\\.venv\\Lib\\site-packages\\sklearn\\utils\\validation.py:2739: UserWarning: X does not have valid feature names, but LGBMRegressor was fitted with feature names\n",
      "  warnings.warn(\n"
     ]
    },
    {
     "name": "stdout",
     "output_type": "stream",
     "text": [
      "[LightGBM] [Info] Auto-choosing col-wise multi-threading, the overhead of testing was 0.024983 seconds.\n",
      "You can set `force_col_wise=true` to remove the overhead.\n",
      "[LightGBM] [Info] Total Bins 1722\n",
      "[LightGBM] [Info] Number of data points in the train set: 199403, number of used features: 12\n",
      "[LightGBM] [Info] Start training from score 23.312128\n"
     ]
    },
    {
     "name": "stderr",
     "output_type": "stream",
     "text": [
      "c:\\Users\\ADMIN\\MyProject\\School_Projects\\WeatherForecastML-DM\\.venv\\Lib\\site-packages\\sklearn\\utils\\validation.py:2739: UserWarning: X does not have valid feature names, but LGBMRegressor was fitted with feature names\n",
      "  warnings.warn(\n"
     ]
    },
    {
     "name": "stdout",
     "output_type": "stream",
     "text": [
      "[LightGBM] [Info] Auto-choosing col-wise multi-threading, the overhead of testing was 0.052647 seconds.\n",
      "You can set `force_col_wise=true` to remove the overhead.\n",
      "[LightGBM] [Info] Total Bins 1727\n",
      "[LightGBM] [Info] Number of data points in the train set: 299103, number of used features: 13\n",
      "[LightGBM] [Info] Start training from score 23.152913\n"
     ]
    },
    {
     "name": "stderr",
     "output_type": "stream",
     "text": [
      "c:\\Users\\ADMIN\\MyProject\\School_Projects\\WeatherForecastML-DM\\.venv\\Lib\\site-packages\\sklearn\\utils\\validation.py:2739: UserWarning: X does not have valid feature names, but LGBMRegressor was fitted with feature names\n",
      "  warnings.warn(\n"
     ]
    },
    {
     "name": "stdout",
     "output_type": "stream",
     "text": [
      "[LightGBM] [Info] Auto-choosing row-wise multi-threading, the overhead of testing was 0.015990 seconds.\n",
      "You can set `force_row_wise=true` to remove the overhead.\n",
      "And if memory is not enough, you can set `force_col_wise=true`.\n",
      "[LightGBM] [Info] Total Bins 1726\n",
      "[LightGBM] [Info] Number of data points in the train set: 398803, number of used features: 13\n",
      "[LightGBM] [Info] Start training from score 23.131339\n"
     ]
    },
    {
     "name": "stderr",
     "output_type": "stream",
     "text": [
      "c:\\Users\\ADMIN\\MyProject\\School_Projects\\WeatherForecastML-DM\\.venv\\Lib\\site-packages\\sklearn\\utils\\validation.py:2739: UserWarning: X does not have valid feature names, but LGBMRegressor was fitted with feature names\n",
      "  warnings.warn(\n"
     ]
    },
    {
     "name": "stdout",
     "output_type": "stream",
     "text": [
      "[LightGBM] [Info] Auto-choosing row-wise multi-threading, the overhead of testing was 0.015361 seconds.\n",
      "You can set `force_row_wise=true` to remove the overhead.\n",
      "And if memory is not enough, you can set `force_col_wise=true`.\n",
      "[LightGBM] [Info] Total Bins 1731\n",
      "[LightGBM] [Info] Number of data points in the train set: 498503, number of used features: 13\n",
      "[LightGBM] [Info] Start training from score 23.194751\n"
     ]
    },
    {
     "name": "stderr",
     "output_type": "stream",
     "text": [
      "c:\\Users\\ADMIN\\MyProject\\School_Projects\\WeatherForecastML-DM\\.venv\\Lib\\site-packages\\sklearn\\utils\\validation.py:2739: UserWarning: X does not have valid feature names, but LGBMRegressor was fitted with feature names\n",
      "  warnings.warn(\n"
     ]
    },
    {
     "name": "stdout",
     "output_type": "stream",
     "text": [
      "[LightGBM] [Info] Auto-choosing row-wise multi-threading, the overhead of testing was 0.002581 seconds.\n",
      "You can set `force_row_wise=true` to remove the overhead.\n",
      "And if memory is not enough, you can set `force_col_wise=true`.\n",
      "[LightGBM] [Info] Total Bins 1711\n",
      "[LightGBM] [Info] Number of data points in the train set: 99703, number of used features: 12\n",
      "[LightGBM] [Info] Start training from score 23.346327\n"
     ]
    },
    {
     "name": "stderr",
     "output_type": "stream",
     "text": [
      "c:\\Users\\ADMIN\\MyProject\\School_Projects\\WeatherForecastML-DM\\.venv\\Lib\\site-packages\\sklearn\\utils\\validation.py:2739: UserWarning: X does not have valid feature names, but LGBMRegressor was fitted with feature names\n",
      "  warnings.warn(\n"
     ]
    },
    {
     "name": "stdout",
     "output_type": "stream",
     "text": [
      "[LightGBM] [Info] Auto-choosing row-wise multi-threading, the overhead of testing was 0.004977 seconds.\n",
      "You can set `force_row_wise=true` to remove the overhead.\n",
      "And if memory is not enough, you can set `force_col_wise=true`.\n",
      "[LightGBM] [Info] Total Bins 1722\n",
      "[LightGBM] [Info] Number of data points in the train set: 199403, number of used features: 12\n",
      "[LightGBM] [Info] Start training from score 23.312128\n"
     ]
    },
    {
     "name": "stderr",
     "output_type": "stream",
     "text": [
      "c:\\Users\\ADMIN\\MyProject\\School_Projects\\WeatherForecastML-DM\\.venv\\Lib\\site-packages\\sklearn\\utils\\validation.py:2739: UserWarning: X does not have valid feature names, but LGBMRegressor was fitted with feature names\n",
      "  warnings.warn(\n"
     ]
    },
    {
     "name": "stdout",
     "output_type": "stream",
     "text": [
      "[LightGBM] [Info] Auto-choosing col-wise multi-threading, the overhead of testing was 0.033992 seconds.\n",
      "You can set `force_col_wise=true` to remove the overhead.\n",
      "[LightGBM] [Info] Total Bins 1727\n",
      "[LightGBM] [Info] Number of data points in the train set: 299103, number of used features: 13\n",
      "[LightGBM] [Info] Start training from score 23.152913\n"
     ]
    },
    {
     "name": "stderr",
     "output_type": "stream",
     "text": [
      "c:\\Users\\ADMIN\\MyProject\\School_Projects\\WeatherForecastML-DM\\.venv\\Lib\\site-packages\\sklearn\\utils\\validation.py:2739: UserWarning: X does not have valid feature names, but LGBMRegressor was fitted with feature names\n",
      "  warnings.warn(\n"
     ]
    },
    {
     "name": "stdout",
     "output_type": "stream",
     "text": [
      "[LightGBM] [Info] Auto-choosing col-wise multi-threading, the overhead of testing was 0.070845 seconds.\n",
      "You can set `force_col_wise=true` to remove the overhead.\n",
      "[LightGBM] [Info] Total Bins 1726\n",
      "[LightGBM] [Info] Number of data points in the train set: 398803, number of used features: 13\n",
      "[LightGBM] [Info] Start training from score 23.131339\n"
     ]
    },
    {
     "name": "stderr",
     "output_type": "stream",
     "text": [
      "c:\\Users\\ADMIN\\MyProject\\School_Projects\\WeatherForecastML-DM\\.venv\\Lib\\site-packages\\sklearn\\utils\\validation.py:2739: UserWarning: X does not have valid feature names, but LGBMRegressor was fitted with feature names\n",
      "  warnings.warn(\n"
     ]
    },
    {
     "name": "stdout",
     "output_type": "stream",
     "text": [
      "[LightGBM] [Info] Auto-choosing col-wise multi-threading, the overhead of testing was 0.067615 seconds.\n",
      "You can set `force_col_wise=true` to remove the overhead.\n",
      "[LightGBM] [Info] Total Bins 1731\n",
      "[LightGBM] [Info] Number of data points in the train set: 498503, number of used features: 13\n",
      "[LightGBM] [Info] Start training from score 23.194751\n"
     ]
    },
    {
     "name": "stderr",
     "output_type": "stream",
     "text": [
      "c:\\Users\\ADMIN\\MyProject\\School_Projects\\WeatherForecastML-DM\\.venv\\Lib\\site-packages\\sklearn\\utils\\validation.py:2739: UserWarning: X does not have valid feature names, but LGBMRegressor was fitted with feature names\n",
      "  warnings.warn(\n"
     ]
    },
    {
     "name": "stdout",
     "output_type": "stream",
     "text": [
      "[LightGBM] [Info] Auto-choosing row-wise multi-threading, the overhead of testing was 0.026069 seconds.\n",
      "You can set `force_row_wise=true` to remove the overhead.\n",
      "And if memory is not enough, you can set `force_col_wise=true`.\n",
      "[LightGBM] [Info] Total Bins 1734\n",
      "[LightGBM] [Info] Number of data points in the train set: 598203, number of used features: 13\n",
      "[LightGBM] [Info] Start training from score 23.225665\n"
     ]
    },
    {
     "name": "stderr",
     "output_type": "stream",
     "text": [
      "c:\\Users\\ADMIN\\MyProject\\School_Projects\\WeatherForecastML-DM\\.venv\\Lib\\site-packages\\sklearn\\utils\\validation.py:2739: UserWarning: X does not have valid feature names, but LGBMRegressor was fitted with feature names\n",
      "  warnings.warn(\n",
      "c:\\Users\\ADMIN\\MyProject\\School_Projects\\WeatherForecastML-DM\\.venv\\Lib\\site-packages\\sklearn\\utils\\validation.py:2739: UserWarning: X does not have valid feature names, but LGBMRegressor was fitted with feature names\n",
      "  warnings.warn(\n"
     ]
    },
    {
     "name": "stdout",
     "output_type": "stream",
     "text": [
      "[RESULT] Light GBM Regressor - temperature_2m\n",
      "Cross-Validation Scores:\n",
      "  [CV RMSE]: 2.59 ± 0.06\n",
      "  [CV MAE]: 1.93 ± 0.05\n",
      "  [CV R2]: 0.80 ± 0.01\n",
      "\n",
      "Test Set Evaluation:\n",
      "  [MAE]: 1.97\n",
      "  [RMSE]: 2.62\n",
      "  [Train R2 Score]: 0.83\n",
      "  [Test R2 Score]: 0.79\n",
      "\n",
      "[VIF Scores]\n",
      "    feature_index       VIF\n",
      "1               1  3.491729\n",
      "2               2  2.952208\n",
      "3               3  2.694716\n",
      "0               0  2.655588\n",
      "9               9  2.574975\n",
      "8               8  2.533521\n",
      "10             10  2.142527\n",
      "6               6  2.019605\n",
      "7               7  1.777153\n",
      "12             12  1.766127\n",
      "4               4  1.320416\n",
      "5               5  1.237504\n",
      "11             11  1.094703\n",
      "[LightGBM] [Info] Auto-choosing row-wise multi-threading, the overhead of testing was 0.003337 seconds.\n",
      "You can set `force_row_wise=true` to remove the overhead.\n",
      "And if memory is not enough, you can set `force_col_wise=true`.\n",
      "[LightGBM] [Info] Total Bins 1711\n",
      "[LightGBM] [Info] Number of data points in the train set: 99703, number of used features: 12\n",
      "[LightGBM] [Info] Start training from score 26.320498\n"
     ]
    },
    {
     "name": "stderr",
     "output_type": "stream",
     "text": [
      "c:\\Users\\ADMIN\\MyProject\\School_Projects\\WeatherForecastML-DM\\.venv\\Lib\\site-packages\\sklearn\\utils\\validation.py:2739: UserWarning: X does not have valid feature names, but LGBMRegressor was fitted with feature names\n",
      "  warnings.warn(\n"
     ]
    },
    {
     "name": "stdout",
     "output_type": "stream",
     "text": [
      "[LightGBM] [Info] Auto-choosing col-wise multi-threading, the overhead of testing was 0.032734 seconds.\n",
      "You can set `force_col_wise=true` to remove the overhead.\n",
      "[LightGBM] [Info] Total Bins 1722\n",
      "[LightGBM] [Info] Number of data points in the train set: 199403, number of used features: 12\n",
      "[LightGBM] [Info] Start training from score 26.271120\n"
     ]
    },
    {
     "name": "stderr",
     "output_type": "stream",
     "text": [
      "c:\\Users\\ADMIN\\MyProject\\School_Projects\\WeatherForecastML-DM\\.venv\\Lib\\site-packages\\sklearn\\utils\\validation.py:2739: UserWarning: X does not have valid feature names, but LGBMRegressor was fitted with feature names\n",
      "  warnings.warn(\n"
     ]
    },
    {
     "name": "stdout",
     "output_type": "stream",
     "text": [
      "[LightGBM] [Info] Auto-choosing col-wise multi-threading, the overhead of testing was 0.030576 seconds.\n",
      "You can set `force_col_wise=true` to remove the overhead.\n",
      "[LightGBM] [Info] Total Bins 1727\n",
      "[LightGBM] [Info] Number of data points in the train set: 299103, number of used features: 13\n",
      "[LightGBM] [Info] Start training from score 26.045158\n"
     ]
    },
    {
     "name": "stderr",
     "output_type": "stream",
     "text": [
      "c:\\Users\\ADMIN\\MyProject\\School_Projects\\WeatherForecastML-DM\\.venv\\Lib\\site-packages\\sklearn\\utils\\validation.py:2739: UserWarning: X does not have valid feature names, but LGBMRegressor was fitted with feature names\n",
      "  warnings.warn(\n"
     ]
    },
    {
     "name": "stdout",
     "output_type": "stream",
     "text": [
      "[LightGBM] [Info] Auto-choosing col-wise multi-threading, the overhead of testing was 0.393760 seconds.\n",
      "You can set `force_col_wise=true` to remove the overhead.\n",
      "[LightGBM] [Info] Total Bins 1726\n",
      "[LightGBM] [Info] Number of data points in the train set: 398803, number of used features: 13\n",
      "[LightGBM] [Info] Start training from score 26.049285\n"
     ]
    },
    {
     "name": "stderr",
     "output_type": "stream",
     "text": [
      "c:\\Users\\ADMIN\\MyProject\\School_Projects\\WeatherForecastML-DM\\.venv\\Lib\\site-packages\\sklearn\\utils\\validation.py:2739: UserWarning: X does not have valid feature names, but LGBMRegressor was fitted with feature names\n",
      "  warnings.warn(\n"
     ]
    },
    {
     "name": "stdout",
     "output_type": "stream",
     "text": [
      "[LightGBM] [Info] Auto-choosing col-wise multi-threading, the overhead of testing was 0.068355 seconds.\n",
      "You can set `force_col_wise=true` to remove the overhead.\n",
      "[LightGBM] [Info] Total Bins 1731\n",
      "[LightGBM] [Info] Number of data points in the train set: 498503, number of used features: 13\n",
      "[LightGBM] [Info] Start training from score 26.158744\n"
     ]
    },
    {
     "name": "stderr",
     "output_type": "stream",
     "text": [
      "c:\\Users\\ADMIN\\MyProject\\School_Projects\\WeatherForecastML-DM\\.venv\\Lib\\site-packages\\sklearn\\utils\\validation.py:2739: UserWarning: X does not have valid feature names, but LGBMRegressor was fitted with feature names\n",
      "  warnings.warn(\n"
     ]
    },
    {
     "name": "stdout",
     "output_type": "stream",
     "text": [
      "[LightGBM] [Info] Auto-choosing col-wise multi-threading, the overhead of testing was 0.014725 seconds.\n",
      "You can set `force_col_wise=true` to remove the overhead.\n",
      "[LightGBM] [Info] Total Bins 1711\n",
      "[LightGBM] [Info] Number of data points in the train set: 99703, number of used features: 12\n",
      "[LightGBM] [Info] Start training from score 26.320498\n"
     ]
    },
    {
     "name": "stderr",
     "output_type": "stream",
     "text": [
      "c:\\Users\\ADMIN\\MyProject\\School_Projects\\WeatherForecastML-DM\\.venv\\Lib\\site-packages\\sklearn\\utils\\validation.py:2739: UserWarning: X does not have valid feature names, but LGBMRegressor was fitted with feature names\n",
      "  warnings.warn(\n"
     ]
    },
    {
     "name": "stdout",
     "output_type": "stream",
     "text": [
      "[LightGBM] [Info] Auto-choosing col-wise multi-threading, the overhead of testing was 0.026642 seconds.\n",
      "You can set `force_col_wise=true` to remove the overhead.\n",
      "[LightGBM] [Info] Total Bins 1722\n",
      "[LightGBM] [Info] Number of data points in the train set: 199403, number of used features: 12\n",
      "[LightGBM] [Info] Start training from score 26.271120\n"
     ]
    },
    {
     "name": "stderr",
     "output_type": "stream",
     "text": [
      "c:\\Users\\ADMIN\\MyProject\\School_Projects\\WeatherForecastML-DM\\.venv\\Lib\\site-packages\\sklearn\\utils\\validation.py:2739: UserWarning: X does not have valid feature names, but LGBMRegressor was fitted with feature names\n",
      "  warnings.warn(\n"
     ]
    },
    {
     "name": "stdout",
     "output_type": "stream",
     "text": [
      "[LightGBM] [Info] Auto-choosing row-wise multi-threading, the overhead of testing was 0.008625 seconds.\n",
      "You can set `force_row_wise=true` to remove the overhead.\n",
      "And if memory is not enough, you can set `force_col_wise=true`.\n",
      "[LightGBM] [Info] Total Bins 1727\n",
      "[LightGBM] [Info] Number of data points in the train set: 299103, number of used features: 13\n",
      "[LightGBM] [Info] Start training from score 26.045158\n"
     ]
    },
    {
     "name": "stderr",
     "output_type": "stream",
     "text": [
      "c:\\Users\\ADMIN\\MyProject\\School_Projects\\WeatherForecastML-DM\\.venv\\Lib\\site-packages\\sklearn\\utils\\validation.py:2739: UserWarning: X does not have valid feature names, but LGBMRegressor was fitted with feature names\n",
      "  warnings.warn(\n"
     ]
    },
    {
     "name": "stdout",
     "output_type": "stream",
     "text": [
      "[LightGBM] [Info] Auto-choosing row-wise multi-threading, the overhead of testing was 0.015438 seconds.\n",
      "You can set `force_row_wise=true` to remove the overhead.\n",
      "And if memory is not enough, you can set `force_col_wise=true`.\n",
      "[LightGBM] [Info] Total Bins 1726\n",
      "[LightGBM] [Info] Number of data points in the train set: 398803, number of used features: 13\n",
      "[LightGBM] [Info] Start training from score 26.049285\n"
     ]
    },
    {
     "name": "stderr",
     "output_type": "stream",
     "text": [
      "c:\\Users\\ADMIN\\MyProject\\School_Projects\\WeatherForecastML-DM\\.venv\\Lib\\site-packages\\sklearn\\utils\\validation.py:2739: UserWarning: X does not have valid feature names, but LGBMRegressor was fitted with feature names\n",
      "  warnings.warn(\n"
     ]
    },
    {
     "name": "stdout",
     "output_type": "stream",
     "text": [
      "[LightGBM] [Info] Auto-choosing col-wise multi-threading, the overhead of testing was 0.077292 seconds.\n",
      "You can set `force_col_wise=true` to remove the overhead.\n",
      "[LightGBM] [Info] Total Bins 1731\n",
      "[LightGBM] [Info] Number of data points in the train set: 498503, number of used features: 13\n",
      "[LightGBM] [Info] Start training from score 26.158744\n"
     ]
    },
    {
     "name": "stderr",
     "output_type": "stream",
     "text": [
      "c:\\Users\\ADMIN\\MyProject\\School_Projects\\WeatherForecastML-DM\\.venv\\Lib\\site-packages\\sklearn\\utils\\validation.py:2739: UserWarning: X does not have valid feature names, but LGBMRegressor was fitted with feature names\n",
      "  warnings.warn(\n"
     ]
    },
    {
     "name": "stdout",
     "output_type": "stream",
     "text": [
      "[LightGBM] [Info] Auto-choosing col-wise multi-threading, the overhead of testing was 0.015971 seconds.\n",
      "You can set `force_col_wise=true` to remove the overhead.\n",
      "[LightGBM] [Info] Total Bins 1711\n",
      "[LightGBM] [Info] Number of data points in the train set: 99703, number of used features: 12\n",
      "[LightGBM] [Info] Start training from score 26.320498\n"
     ]
    },
    {
     "name": "stderr",
     "output_type": "stream",
     "text": [
      "c:\\Users\\ADMIN\\MyProject\\School_Projects\\WeatherForecastML-DM\\.venv\\Lib\\site-packages\\sklearn\\utils\\validation.py:2739: UserWarning: X does not have valid feature names, but LGBMRegressor was fitted with feature names\n",
      "  warnings.warn(\n"
     ]
    },
    {
     "name": "stdout",
     "output_type": "stream",
     "text": [
      "[LightGBM] [Info] Auto-choosing col-wise multi-threading, the overhead of testing was 0.042978 seconds.\n",
      "You can set `force_col_wise=true` to remove the overhead.\n",
      "[LightGBM] [Info] Total Bins 1722\n",
      "[LightGBM] [Info] Number of data points in the train set: 199403, number of used features: 12\n",
      "[LightGBM] [Info] Start training from score 26.271120\n"
     ]
    },
    {
     "name": "stderr",
     "output_type": "stream",
     "text": [
      "c:\\Users\\ADMIN\\MyProject\\School_Projects\\WeatherForecastML-DM\\.venv\\Lib\\site-packages\\sklearn\\utils\\validation.py:2739: UserWarning: X does not have valid feature names, but LGBMRegressor was fitted with feature names\n",
      "  warnings.warn(\n"
     ]
    },
    {
     "name": "stdout",
     "output_type": "stream",
     "text": [
      "[LightGBM] [Info] Auto-choosing row-wise multi-threading, the overhead of testing was 0.008291 seconds.\n",
      "You can set `force_row_wise=true` to remove the overhead.\n",
      "And if memory is not enough, you can set `force_col_wise=true`.\n",
      "[LightGBM] [Info] Total Bins 1727\n",
      "[LightGBM] [Info] Number of data points in the train set: 299103, number of used features: 13\n",
      "[LightGBM] [Info] Start training from score 26.045158\n"
     ]
    },
    {
     "name": "stderr",
     "output_type": "stream",
     "text": [
      "c:\\Users\\ADMIN\\MyProject\\School_Projects\\WeatherForecastML-DM\\.venv\\Lib\\site-packages\\sklearn\\utils\\validation.py:2739: UserWarning: X does not have valid feature names, but LGBMRegressor was fitted with feature names\n",
      "  warnings.warn(\n"
     ]
    },
    {
     "name": "stdout",
     "output_type": "stream",
     "text": [
      "[LightGBM] [Info] Auto-choosing col-wise multi-threading, the overhead of testing was 0.044589 seconds.\n",
      "You can set `force_col_wise=true` to remove the overhead.\n",
      "[LightGBM] [Info] Total Bins 1726\n",
      "[LightGBM] [Info] Number of data points in the train set: 398803, number of used features: 13\n",
      "[LightGBM] [Info] Start training from score 26.049285\n"
     ]
    },
    {
     "name": "stderr",
     "output_type": "stream",
     "text": [
      "c:\\Users\\ADMIN\\MyProject\\School_Projects\\WeatherForecastML-DM\\.venv\\Lib\\site-packages\\sklearn\\utils\\validation.py:2739: UserWarning: X does not have valid feature names, but LGBMRegressor was fitted with feature names\n",
      "  warnings.warn(\n"
     ]
    },
    {
     "name": "stdout",
     "output_type": "stream",
     "text": [
      "[LightGBM] [Info] Auto-choosing row-wise multi-threading, the overhead of testing was 0.015476 seconds.\n",
      "You can set `force_row_wise=true` to remove the overhead.\n",
      "And if memory is not enough, you can set `force_col_wise=true`.\n",
      "[LightGBM] [Info] Total Bins 1731\n",
      "[LightGBM] [Info] Number of data points in the train set: 498503, number of used features: 13\n",
      "[LightGBM] [Info] Start training from score 26.158744\n"
     ]
    },
    {
     "name": "stderr",
     "output_type": "stream",
     "text": [
      "c:\\Users\\ADMIN\\MyProject\\School_Projects\\WeatherForecastML-DM\\.venv\\Lib\\site-packages\\sklearn\\utils\\validation.py:2739: UserWarning: X does not have valid feature names, but LGBMRegressor was fitted with feature names\n",
      "  warnings.warn(\n"
     ]
    },
    {
     "name": "stdout",
     "output_type": "stream",
     "text": [
      "[LightGBM] [Info] Auto-choosing col-wise multi-threading, the overhead of testing was 0.121827 seconds.\n",
      "You can set `force_col_wise=true` to remove the overhead.\n",
      "[LightGBM] [Info] Total Bins 1734\n",
      "[LightGBM] [Info] Number of data points in the train set: 598203, number of used features: 13\n",
      "[LightGBM] [Info] Start training from score 26.198860\n"
     ]
    },
    {
     "name": "stderr",
     "output_type": "stream",
     "text": [
      "c:\\Users\\ADMIN\\MyProject\\School_Projects\\WeatherForecastML-DM\\.venv\\Lib\\site-packages\\sklearn\\utils\\validation.py:2739: UserWarning: X does not have valid feature names, but LGBMRegressor was fitted with feature names\n",
      "  warnings.warn(\n",
      "c:\\Users\\ADMIN\\MyProject\\School_Projects\\WeatherForecastML-DM\\.venv\\Lib\\site-packages\\sklearn\\utils\\validation.py:2739: UserWarning: X does not have valid feature names, but LGBMRegressor was fitted with feature names\n",
      "  warnings.warn(\n"
     ]
    },
    {
     "name": "stdout",
     "output_type": "stream",
     "text": [
      "[RESULT] Light GBM Regressor - apparent_temperature\n",
      "Cross-Validation Scores:\n",
      "  [CV RMSE]: 3.75 ± 0.07\n",
      "  [CV MAE]: 2.82 ± 0.06\n",
      "  [CV R2]: 0.79 ± 0.00\n",
      "\n",
      "Test Set Evaluation:\n",
      "  [MAE]: 2.90\n",
      "  [RMSE]: 3.83\n",
      "  [Train R2 Score]: 0.83\n",
      "  [Test R2 Score]: 0.79\n",
      "\n",
      "[VIF Scores]\n",
      "    feature_index       VIF\n",
      "1               1  3.491729\n",
      "2               2  2.952208\n",
      "3               3  2.694716\n",
      "0               0  2.655588\n",
      "9               9  2.574975\n",
      "8               8  2.533521\n",
      "10             10  2.142527\n",
      "6               6  2.019605\n",
      "7               7  1.777153\n",
      "12             12  1.766127\n",
      "4               4  1.320416\n",
      "5               5  1.237504\n",
      "11             11  1.094703\n",
      "[LightGBM] [Info] Auto-choosing col-wise multi-threading, the overhead of testing was 0.016548 seconds.\n",
      "You can set `force_col_wise=true` to remove the overhead.\n",
      "[LightGBM] [Info] Total Bins 1711\n",
      "[LightGBM] [Info] Number of data points in the train set: 99703, number of used features: 12\n",
      "[LightGBM] [Info] Start training from score 79.973598\n"
     ]
    },
    {
     "name": "stderr",
     "output_type": "stream",
     "text": [
      "c:\\Users\\ADMIN\\MyProject\\School_Projects\\WeatherForecastML-DM\\.venv\\Lib\\site-packages\\sklearn\\utils\\validation.py:2739: UserWarning: X does not have valid feature names, but LGBMRegressor was fitted with feature names\n",
      "  warnings.warn(\n"
     ]
    },
    {
     "name": "stdout",
     "output_type": "stream",
     "text": [
      "[LightGBM] [Info] Auto-choosing row-wise multi-threading, the overhead of testing was 0.005404 seconds.\n",
      "You can set `force_row_wise=true` to remove the overhead.\n",
      "And if memory is not enough, you can set `force_col_wise=true`.\n",
      "[LightGBM] [Info] Total Bins 1722\n",
      "[LightGBM] [Info] Number of data points in the train set: 199403, number of used features: 12\n",
      "[LightGBM] [Info] Start training from score 79.768098\n"
     ]
    },
    {
     "name": "stderr",
     "output_type": "stream",
     "text": [
      "c:\\Users\\ADMIN\\MyProject\\School_Projects\\WeatherForecastML-DM\\.venv\\Lib\\site-packages\\sklearn\\utils\\validation.py:2739: UserWarning: X does not have valid feature names, but LGBMRegressor was fitted with feature names\n",
      "  warnings.warn(\n"
     ]
    },
    {
     "name": "stdout",
     "output_type": "stream",
     "text": [
      "[LightGBM] [Info] Auto-choosing row-wise multi-threading, the overhead of testing was 0.010846 seconds.\n",
      "You can set `force_row_wise=true` to remove the overhead.\n",
      "And if memory is not enough, you can set `force_col_wise=true`.\n",
      "[LightGBM] [Info] Total Bins 1727\n",
      "[LightGBM] [Info] Number of data points in the train set: 299103, number of used features: 13\n",
      "[LightGBM] [Info] Start training from score 79.542967\n"
     ]
    },
    {
     "name": "stderr",
     "output_type": "stream",
     "text": [
      "c:\\Users\\ADMIN\\MyProject\\School_Projects\\WeatherForecastML-DM\\.venv\\Lib\\site-packages\\sklearn\\utils\\validation.py:2739: UserWarning: X does not have valid feature names, but LGBMRegressor was fitted with feature names\n",
      "  warnings.warn(\n"
     ]
    },
    {
     "name": "stdout",
     "output_type": "stream",
     "text": [
      "[LightGBM] [Info] Auto-choosing row-wise multi-threading, the overhead of testing was 0.023991 seconds.\n",
      "You can set `force_row_wise=true` to remove the overhead.\n",
      "And if memory is not enough, you can set `force_col_wise=true`.\n",
      "[LightGBM] [Info] Total Bins 1726\n",
      "[LightGBM] [Info] Number of data points in the train set: 398803, number of used features: 13\n",
      "[LightGBM] [Info] Start training from score 79.690156\n"
     ]
    },
    {
     "name": "stderr",
     "output_type": "stream",
     "text": [
      "c:\\Users\\ADMIN\\MyProject\\School_Projects\\WeatherForecastML-DM\\.venv\\Lib\\site-packages\\sklearn\\utils\\validation.py:2739: UserWarning: X does not have valid feature names, but LGBMRegressor was fitted with feature names\n",
      "  warnings.warn(\n"
     ]
    },
    {
     "name": "stdout",
     "output_type": "stream",
     "text": [
      "[LightGBM] [Info] Auto-choosing col-wise multi-threading, the overhead of testing was 0.105575 seconds.\n",
      "You can set `force_col_wise=true` to remove the overhead.\n",
      "[LightGBM] [Info] Total Bins 1731\n",
      "[LightGBM] [Info] Number of data points in the train set: 498503, number of used features: 13\n",
      "[LightGBM] [Info] Start training from score 79.809090\n"
     ]
    },
    {
     "name": "stderr",
     "output_type": "stream",
     "text": [
      "c:\\Users\\ADMIN\\MyProject\\School_Projects\\WeatherForecastML-DM\\.venv\\Lib\\site-packages\\sklearn\\utils\\validation.py:2739: UserWarning: X does not have valid feature names, but LGBMRegressor was fitted with feature names\n",
      "  warnings.warn(\n"
     ]
    },
    {
     "name": "stdout",
     "output_type": "stream",
     "text": [
      "[LightGBM] [Info] Auto-choosing row-wise multi-threading, the overhead of testing was 0.004236 seconds.\n",
      "You can set `force_row_wise=true` to remove the overhead.\n",
      "And if memory is not enough, you can set `force_col_wise=true`.\n",
      "[LightGBM] [Info] Total Bins 1711\n",
      "[LightGBM] [Info] Number of data points in the train set: 99703, number of used features: 12\n",
      "[LightGBM] [Info] Start training from score 79.973598\n"
     ]
    },
    {
     "name": "stderr",
     "output_type": "stream",
     "text": [
      "c:\\Users\\ADMIN\\MyProject\\School_Projects\\WeatherForecastML-DM\\.venv\\Lib\\site-packages\\sklearn\\utils\\validation.py:2739: UserWarning: X does not have valid feature names, but LGBMRegressor was fitted with feature names\n",
      "  warnings.warn(\n"
     ]
    },
    {
     "name": "stdout",
     "output_type": "stream",
     "text": [
      "[LightGBM] [Info] Auto-choosing row-wise multi-threading, the overhead of testing was 0.007605 seconds.\n",
      "You can set `force_row_wise=true` to remove the overhead.\n",
      "And if memory is not enough, you can set `force_col_wise=true`.\n",
      "[LightGBM] [Info] Total Bins 1722\n",
      "[LightGBM] [Info] Number of data points in the train set: 199403, number of used features: 12\n",
      "[LightGBM] [Info] Start training from score 79.768098\n"
     ]
    },
    {
     "name": "stderr",
     "output_type": "stream",
     "text": [
      "c:\\Users\\ADMIN\\MyProject\\School_Projects\\WeatherForecastML-DM\\.venv\\Lib\\site-packages\\sklearn\\utils\\validation.py:2739: UserWarning: X does not have valid feature names, but LGBMRegressor was fitted with feature names\n",
      "  warnings.warn(\n"
     ]
    },
    {
     "name": "stdout",
     "output_type": "stream",
     "text": [
      "[LightGBM] [Info] Auto-choosing col-wise multi-threading, the overhead of testing was 0.050691 seconds.\n",
      "You can set `force_col_wise=true` to remove the overhead.\n",
      "[LightGBM] [Info] Total Bins 1727\n",
      "[LightGBM] [Info] Number of data points in the train set: 299103, number of used features: 13\n",
      "[LightGBM] [Info] Start training from score 79.542967\n"
     ]
    },
    {
     "name": "stderr",
     "output_type": "stream",
     "text": [
      "c:\\Users\\ADMIN\\MyProject\\School_Projects\\WeatherForecastML-DM\\.venv\\Lib\\site-packages\\sklearn\\utils\\validation.py:2739: UserWarning: X does not have valid feature names, but LGBMRegressor was fitted with feature names\n",
      "  warnings.warn(\n"
     ]
    },
    {
     "name": "stdout",
     "output_type": "stream",
     "text": [
      "[LightGBM] [Info] Auto-choosing col-wise multi-threading, the overhead of testing was 0.087323 seconds.\n",
      "You can set `force_col_wise=true` to remove the overhead.\n",
      "[LightGBM] [Info] Total Bins 1726\n",
      "[LightGBM] [Info] Number of data points in the train set: 398803, number of used features: 13\n",
      "[LightGBM] [Info] Start training from score 79.690156\n"
     ]
    },
    {
     "name": "stderr",
     "output_type": "stream",
     "text": [
      "c:\\Users\\ADMIN\\MyProject\\School_Projects\\WeatherForecastML-DM\\.venv\\Lib\\site-packages\\sklearn\\utils\\validation.py:2739: UserWarning: X does not have valid feature names, but LGBMRegressor was fitted with feature names\n",
      "  warnings.warn(\n"
     ]
    },
    {
     "name": "stdout",
     "output_type": "stream",
     "text": [
      "[LightGBM] [Info] Auto-choosing row-wise multi-threading, the overhead of testing was 0.062240 seconds.\n",
      "You can set `force_row_wise=true` to remove the overhead.\n",
      "And if memory is not enough, you can set `force_col_wise=true`.\n",
      "[LightGBM] [Info] Total Bins 1731\n",
      "[LightGBM] [Info] Number of data points in the train set: 498503, number of used features: 13\n",
      "[LightGBM] [Info] Start training from score 79.809090\n"
     ]
    },
    {
     "name": "stderr",
     "output_type": "stream",
     "text": [
      "c:\\Users\\ADMIN\\MyProject\\School_Projects\\WeatherForecastML-DM\\.venv\\Lib\\site-packages\\sklearn\\utils\\validation.py:2739: UserWarning: X does not have valid feature names, but LGBMRegressor was fitted with feature names\n",
      "  warnings.warn(\n"
     ]
    },
    {
     "name": "stdout",
     "output_type": "stream",
     "text": [
      "[LightGBM] [Info] Auto-choosing row-wise multi-threading, the overhead of testing was 0.005731 seconds.\n",
      "You can set `force_row_wise=true` to remove the overhead.\n",
      "And if memory is not enough, you can set `force_col_wise=true`.\n",
      "[LightGBM] [Info] Total Bins 1711\n",
      "[LightGBM] [Info] Number of data points in the train set: 99703, number of used features: 12\n",
      "[LightGBM] [Info] Start training from score 79.973598\n"
     ]
    },
    {
     "name": "stderr",
     "output_type": "stream",
     "text": [
      "c:\\Users\\ADMIN\\MyProject\\School_Projects\\WeatherForecastML-DM\\.venv\\Lib\\site-packages\\sklearn\\utils\\validation.py:2739: UserWarning: X does not have valid feature names, but LGBMRegressor was fitted with feature names\n",
      "  warnings.warn(\n"
     ]
    },
    {
     "name": "stdout",
     "output_type": "stream",
     "text": [
      "[LightGBM] [Info] Auto-choosing col-wise multi-threading, the overhead of testing was 0.043967 seconds.\n",
      "You can set `force_col_wise=true` to remove the overhead.\n",
      "[LightGBM] [Info] Total Bins 1722\n",
      "[LightGBM] [Info] Number of data points in the train set: 199403, number of used features: 12\n",
      "[LightGBM] [Info] Start training from score 79.768098\n"
     ]
    },
    {
     "name": "stderr",
     "output_type": "stream",
     "text": [
      "c:\\Users\\ADMIN\\MyProject\\School_Projects\\WeatherForecastML-DM\\.venv\\Lib\\site-packages\\sklearn\\utils\\validation.py:2739: UserWarning: X does not have valid feature names, but LGBMRegressor was fitted with feature names\n",
      "  warnings.warn(\n"
     ]
    },
    {
     "name": "stdout",
     "output_type": "stream",
     "text": [
      "[LightGBM] [Info] Auto-choosing row-wise multi-threading, the overhead of testing was 0.015672 seconds.\n",
      "You can set `force_row_wise=true` to remove the overhead.\n",
      "And if memory is not enough, you can set `force_col_wise=true`.\n",
      "[LightGBM] [Info] Total Bins 1727\n",
      "[LightGBM] [Info] Number of data points in the train set: 299103, number of used features: 13\n",
      "[LightGBM] [Info] Start training from score 79.542967\n"
     ]
    },
    {
     "name": "stderr",
     "output_type": "stream",
     "text": [
      "c:\\Users\\ADMIN\\MyProject\\School_Projects\\WeatherForecastML-DM\\.venv\\Lib\\site-packages\\sklearn\\utils\\validation.py:2739: UserWarning: X does not have valid feature names, but LGBMRegressor was fitted with feature names\n",
      "  warnings.warn(\n"
     ]
    },
    {
     "name": "stdout",
     "output_type": "stream",
     "text": [
      "[LightGBM] [Info] Auto-choosing row-wise multi-threading, the overhead of testing was 0.011459 seconds.\n",
      "You can set `force_row_wise=true` to remove the overhead.\n",
      "And if memory is not enough, you can set `force_col_wise=true`.\n",
      "[LightGBM] [Info] Total Bins 1726\n",
      "[LightGBM] [Info] Number of data points in the train set: 398803, number of used features: 13\n",
      "[LightGBM] [Info] Start training from score 79.690156\n"
     ]
    },
    {
     "name": "stderr",
     "output_type": "stream",
     "text": [
      "c:\\Users\\ADMIN\\MyProject\\School_Projects\\WeatherForecastML-DM\\.venv\\Lib\\site-packages\\sklearn\\utils\\validation.py:2739: UserWarning: X does not have valid feature names, but LGBMRegressor was fitted with feature names\n",
      "  warnings.warn(\n"
     ]
    },
    {
     "name": "stdout",
     "output_type": "stream",
     "text": [
      "[LightGBM] [Info] Auto-choosing row-wise multi-threading, the overhead of testing was 0.024418 seconds.\n",
      "You can set `force_row_wise=true` to remove the overhead.\n",
      "And if memory is not enough, you can set `force_col_wise=true`.\n",
      "[LightGBM] [Info] Total Bins 1731\n",
      "[LightGBM] [Info] Number of data points in the train set: 498503, number of used features: 13\n",
      "[LightGBM] [Info] Start training from score 79.809090\n"
     ]
    },
    {
     "name": "stderr",
     "output_type": "stream",
     "text": [
      "c:\\Users\\ADMIN\\MyProject\\School_Projects\\WeatherForecastML-DM\\.venv\\Lib\\site-packages\\sklearn\\utils\\validation.py:2739: UserWarning: X does not have valid feature names, but LGBMRegressor was fitted with feature names\n",
      "  warnings.warn(\n"
     ]
    },
    {
     "name": "stdout",
     "output_type": "stream",
     "text": [
      "[LightGBM] [Info] Auto-choosing row-wise multi-threading, the overhead of testing was 0.020284 seconds.\n",
      "You can set `force_row_wise=true` to remove the overhead.\n",
      "And if memory is not enough, you can set `force_col_wise=true`.\n",
      "[LightGBM] [Info] Total Bins 1734\n",
      "[LightGBM] [Info] Number of data points in the train set: 598203, number of used features: 13\n",
      "[LightGBM] [Info] Start training from score 79.686737\n"
     ]
    },
    {
     "name": "stderr",
     "output_type": "stream",
     "text": [
      "c:\\Users\\ADMIN\\MyProject\\School_Projects\\WeatherForecastML-DM\\.venv\\Lib\\site-packages\\sklearn\\utils\\validation.py:2739: UserWarning: X does not have valid feature names, but LGBMRegressor was fitted with feature names\n",
      "  warnings.warn(\n",
      "c:\\Users\\ADMIN\\MyProject\\School_Projects\\WeatherForecastML-DM\\.venv\\Lib\\site-packages\\sklearn\\utils\\validation.py:2739: UserWarning: X does not have valid feature names, but LGBMRegressor was fitted with feature names\n",
      "  warnings.warn(\n"
     ]
    },
    {
     "name": "stdout",
     "output_type": "stream",
     "text": [
      "[RESULT] Light GBM Regressor - relative_humidity_2m\n",
      "Cross-Validation Scores:\n",
      "  [CV RMSE]: 7.80 ± 0.49\n",
      "  [CV MAE]: 5.86 ± 0.35\n",
      "  [CV R2]: 0.70 ± 0.03\n",
      "\n",
      "Test Set Evaluation:\n",
      "  [MAE]: 6.02\n",
      "  [RMSE]: 8.02\n",
      "  [Train R2 Score]: 0.74\n",
      "  [Test R2 Score]: 0.68\n",
      "\n",
      "[VIF Scores]\n",
      "    feature_index       VIF\n",
      "1               1  3.491729\n",
      "2               2  2.952208\n",
      "3               3  2.694716\n",
      "0               0  2.655588\n",
      "9               9  2.574975\n",
      "8               8  2.533521\n",
      "10             10  2.142527\n",
      "6               6  2.019605\n",
      "7               7  1.777153\n",
      "12             12  1.766127\n",
      "4               4  1.320416\n",
      "5               5  1.237504\n",
      "11             11  1.094703\n",
      "[LightGBM] [Info] Auto-choosing row-wise multi-threading, the overhead of testing was 0.005938 seconds.\n",
      "You can set `force_row_wise=true` to remove the overhead.\n",
      "And if memory is not enough, you can set `force_col_wise=true`.\n",
      "[LightGBM] [Info] Total Bins 1711\n",
      "[LightGBM] [Info] Number of data points in the train set: 99703, number of used features: 12\n",
      "[LightGBM] [Info] Start training from score 7.394336\n"
     ]
    },
    {
     "name": "stderr",
     "output_type": "stream",
     "text": [
      "c:\\Users\\ADMIN\\MyProject\\School_Projects\\WeatherForecastML-DM\\.venv\\Lib\\site-packages\\sklearn\\utils\\validation.py:2739: UserWarning: X does not have valid feature names, but LGBMRegressor was fitted with feature names\n",
      "  warnings.warn(\n"
     ]
    },
    {
     "name": "stdout",
     "output_type": "stream",
     "text": [
      "[LightGBM] [Info] Auto-choosing row-wise multi-threading, the overhead of testing was 0.005056 seconds.\n",
      "You can set `force_row_wise=true` to remove the overhead.\n",
      "And if memory is not enough, you can set `force_col_wise=true`.\n",
      "[LightGBM] [Info] Total Bins 1722\n",
      "[LightGBM] [Info] Number of data points in the train set: 199403, number of used features: 12\n",
      "[LightGBM] [Info] Start training from score 7.521927\n"
     ]
    },
    {
     "name": "stderr",
     "output_type": "stream",
     "text": [
      "c:\\Users\\ADMIN\\MyProject\\School_Projects\\WeatherForecastML-DM\\.venv\\Lib\\site-packages\\sklearn\\utils\\validation.py:2739: UserWarning: X does not have valid feature names, but LGBMRegressor was fitted with feature names\n",
      "  warnings.warn(\n"
     ]
    },
    {
     "name": "stdout",
     "output_type": "stream",
     "text": [
      "[LightGBM] [Info] Auto-choosing col-wise multi-threading, the overhead of testing was 0.041933 seconds.\n",
      "You can set `force_col_wise=true` to remove the overhead.\n",
      "[LightGBM] [Info] Total Bins 1727\n",
      "[LightGBM] [Info] Number of data points in the train set: 299103, number of used features: 13\n",
      "[LightGBM] [Info] Start training from score 7.515496\n"
     ]
    },
    {
     "name": "stderr",
     "output_type": "stream",
     "text": [
      "c:\\Users\\ADMIN\\MyProject\\School_Projects\\WeatherForecastML-DM\\.venv\\Lib\\site-packages\\sklearn\\utils\\validation.py:2739: UserWarning: X does not have valid feature names, but LGBMRegressor was fitted with feature names\n",
      "  warnings.warn(\n"
     ]
    },
    {
     "name": "stdout",
     "output_type": "stream",
     "text": [
      "[LightGBM] [Info] Auto-choosing row-wise multi-threading, the overhead of testing was 0.012284 seconds.\n",
      "You can set `force_row_wise=true` to remove the overhead.\n",
      "And if memory is not enough, you can set `force_col_wise=true`.\n",
      "[LightGBM] [Info] Total Bins 1726\n",
      "[LightGBM] [Info] Number of data points in the train set: 398803, number of used features: 13\n",
      "[LightGBM] [Info] Start training from score 7.467706\n"
     ]
    },
    {
     "name": "stderr",
     "output_type": "stream",
     "text": [
      "c:\\Users\\ADMIN\\MyProject\\School_Projects\\WeatherForecastML-DM\\.venv\\Lib\\site-packages\\sklearn\\utils\\validation.py:2739: UserWarning: X does not have valid feature names, but LGBMRegressor was fitted with feature names\n",
      "  warnings.warn(\n"
     ]
    },
    {
     "name": "stdout",
     "output_type": "stream",
     "text": [
      "[LightGBM] [Info] Auto-choosing col-wise multi-threading, the overhead of testing was 0.077978 seconds.\n",
      "You can set `force_col_wise=true` to remove the overhead.\n",
      "[LightGBM] [Info] Total Bins 1731\n",
      "[LightGBM] [Info] Number of data points in the train set: 498503, number of used features: 13\n",
      "[LightGBM] [Info] Start training from score 7.439100\n"
     ]
    },
    {
     "name": "stderr",
     "output_type": "stream",
     "text": [
      "c:\\Users\\ADMIN\\MyProject\\School_Projects\\WeatherForecastML-DM\\.venv\\Lib\\site-packages\\sklearn\\utils\\validation.py:2739: UserWarning: X does not have valid feature names, but LGBMRegressor was fitted with feature names\n",
      "  warnings.warn(\n"
     ]
    },
    {
     "name": "stdout",
     "output_type": "stream",
     "text": [
      "[LightGBM] [Info] Auto-choosing col-wise multi-threading, the overhead of testing was 0.008123 seconds.\n",
      "You can set `force_col_wise=true` to remove the overhead.\n",
      "[LightGBM] [Info] Total Bins 1711\n",
      "[LightGBM] [Info] Number of data points in the train set: 99703, number of used features: 12\n",
      "[LightGBM] [Info] Start training from score 7.394336\n"
     ]
    },
    {
     "name": "stderr",
     "output_type": "stream",
     "text": [
      "c:\\Users\\ADMIN\\MyProject\\School_Projects\\WeatherForecastML-DM\\.venv\\Lib\\site-packages\\sklearn\\utils\\validation.py:2739: UserWarning: X does not have valid feature names, but LGBMRegressor was fitted with feature names\n",
      "  warnings.warn(\n"
     ]
    },
    {
     "name": "stdout",
     "output_type": "stream",
     "text": [
      "[LightGBM] [Info] Auto-choosing row-wise multi-threading, the overhead of testing was 0.006482 seconds.\n",
      "You can set `force_row_wise=true` to remove the overhead.\n",
      "And if memory is not enough, you can set `force_col_wise=true`.\n",
      "[LightGBM] [Info] Total Bins 1722\n",
      "[LightGBM] [Info] Number of data points in the train set: 199403, number of used features: 12\n",
      "[LightGBM] [Info] Start training from score 7.521927\n"
     ]
    },
    {
     "name": "stderr",
     "output_type": "stream",
     "text": [
      "c:\\Users\\ADMIN\\MyProject\\School_Projects\\WeatherForecastML-DM\\.venv\\Lib\\site-packages\\sklearn\\utils\\validation.py:2739: UserWarning: X does not have valid feature names, but LGBMRegressor was fitted with feature names\n",
      "  warnings.warn(\n"
     ]
    },
    {
     "name": "stdout",
     "output_type": "stream",
     "text": [
      "[LightGBM] [Info] Auto-choosing col-wise multi-threading, the overhead of testing was 0.043368 seconds.\n",
      "You can set `force_col_wise=true` to remove the overhead.\n",
      "[LightGBM] [Info] Total Bins 1727\n",
      "[LightGBM] [Info] Number of data points in the train set: 299103, number of used features: 13\n",
      "[LightGBM] [Info] Start training from score 7.515496\n"
     ]
    },
    {
     "name": "stderr",
     "output_type": "stream",
     "text": [
      "c:\\Users\\ADMIN\\MyProject\\School_Projects\\WeatherForecastML-DM\\.venv\\Lib\\site-packages\\sklearn\\utils\\validation.py:2739: UserWarning: X does not have valid feature names, but LGBMRegressor was fitted with feature names\n",
      "  warnings.warn(\n"
     ]
    },
    {
     "name": "stdout",
     "output_type": "stream",
     "text": [
      "[LightGBM] [Info] Auto-choosing col-wise multi-threading, the overhead of testing was 0.061517 seconds.\n",
      "You can set `force_col_wise=true` to remove the overhead.\n",
      "[LightGBM] [Info] Total Bins 1726\n",
      "[LightGBM] [Info] Number of data points in the train set: 398803, number of used features: 13\n",
      "[LightGBM] [Info] Start training from score 7.467706\n"
     ]
    },
    {
     "name": "stderr",
     "output_type": "stream",
     "text": [
      "c:\\Users\\ADMIN\\MyProject\\School_Projects\\WeatherForecastML-DM\\.venv\\Lib\\site-packages\\sklearn\\utils\\validation.py:2739: UserWarning: X does not have valid feature names, but LGBMRegressor was fitted with feature names\n",
      "  warnings.warn(\n"
     ]
    },
    {
     "name": "stdout",
     "output_type": "stream",
     "text": [
      "[LightGBM] [Info] Auto-choosing row-wise multi-threading, the overhead of testing was 0.018173 seconds.\n",
      "You can set `force_row_wise=true` to remove the overhead.\n",
      "And if memory is not enough, you can set `force_col_wise=true`.\n",
      "[LightGBM] [Info] Total Bins 1731\n",
      "[LightGBM] [Info] Number of data points in the train set: 498503, number of used features: 13\n",
      "[LightGBM] [Info] Start training from score 7.439100\n"
     ]
    },
    {
     "name": "stderr",
     "output_type": "stream",
     "text": [
      "c:\\Users\\ADMIN\\MyProject\\School_Projects\\WeatherForecastML-DM\\.venv\\Lib\\site-packages\\sklearn\\utils\\validation.py:2739: UserWarning: X does not have valid feature names, but LGBMRegressor was fitted with feature names\n",
      "  warnings.warn(\n"
     ]
    },
    {
     "name": "stdout",
     "output_type": "stream",
     "text": [
      "[LightGBM] [Info] Auto-choosing row-wise multi-threading, the overhead of testing was 0.002745 seconds.\n",
      "You can set `force_row_wise=true` to remove the overhead.\n",
      "And if memory is not enough, you can set `force_col_wise=true`.\n",
      "[LightGBM] [Info] Total Bins 1711\n",
      "[LightGBM] [Info] Number of data points in the train set: 99703, number of used features: 12\n",
      "[LightGBM] [Info] Start training from score 7.394336\n"
     ]
    },
    {
     "name": "stderr",
     "output_type": "stream",
     "text": [
      "c:\\Users\\ADMIN\\MyProject\\School_Projects\\WeatherForecastML-DM\\.venv\\Lib\\site-packages\\sklearn\\utils\\validation.py:2739: UserWarning: X does not have valid feature names, but LGBMRegressor was fitted with feature names\n",
      "  warnings.warn(\n"
     ]
    },
    {
     "name": "stdout",
     "output_type": "stream",
     "text": [
      "[LightGBM] [Info] Auto-choosing row-wise multi-threading, the overhead of testing was 0.004918 seconds.\n",
      "You can set `force_row_wise=true` to remove the overhead.\n",
      "And if memory is not enough, you can set `force_col_wise=true`.\n",
      "[LightGBM] [Info] Total Bins 1722\n",
      "[LightGBM] [Info] Number of data points in the train set: 199403, number of used features: 12\n",
      "[LightGBM] [Info] Start training from score 7.521927\n"
     ]
    },
    {
     "name": "stderr",
     "output_type": "stream",
     "text": [
      "c:\\Users\\ADMIN\\MyProject\\School_Projects\\WeatherForecastML-DM\\.venv\\Lib\\site-packages\\sklearn\\utils\\validation.py:2739: UserWarning: X does not have valid feature names, but LGBMRegressor was fitted with feature names\n",
      "  warnings.warn(\n"
     ]
    },
    {
     "name": "stdout",
     "output_type": "stream",
     "text": [
      "[LightGBM] [Info] Auto-choosing col-wise multi-threading, the overhead of testing was 0.036757 seconds.\n",
      "You can set `force_col_wise=true` to remove the overhead.\n",
      "[LightGBM] [Info] Total Bins 1727\n",
      "[LightGBM] [Info] Number of data points in the train set: 299103, number of used features: 13\n",
      "[LightGBM] [Info] Start training from score 7.515496\n"
     ]
    },
    {
     "name": "stderr",
     "output_type": "stream",
     "text": [
      "c:\\Users\\ADMIN\\MyProject\\School_Projects\\WeatherForecastML-DM\\.venv\\Lib\\site-packages\\sklearn\\utils\\validation.py:2739: UserWarning: X does not have valid feature names, but LGBMRegressor was fitted with feature names\n",
      "  warnings.warn(\n"
     ]
    },
    {
     "name": "stdout",
     "output_type": "stream",
     "text": [
      "[LightGBM] [Info] Auto-choosing col-wise multi-threading, the overhead of testing was 0.044947 seconds.\n",
      "You can set `force_col_wise=true` to remove the overhead.\n",
      "[LightGBM] [Info] Total Bins 1726\n",
      "[LightGBM] [Info] Number of data points in the train set: 398803, number of used features: 13\n",
      "[LightGBM] [Info] Start training from score 7.467706\n"
     ]
    },
    {
     "name": "stderr",
     "output_type": "stream",
     "text": [
      "c:\\Users\\ADMIN\\MyProject\\School_Projects\\WeatherForecastML-DM\\.venv\\Lib\\site-packages\\sklearn\\utils\\validation.py:2739: UserWarning: X does not have valid feature names, but LGBMRegressor was fitted with feature names\n",
      "  warnings.warn(\n"
     ]
    },
    {
     "name": "stdout",
     "output_type": "stream",
     "text": [
      "[LightGBM] [Info] Auto-choosing row-wise multi-threading, the overhead of testing was 0.029993 seconds.\n",
      "You can set `force_row_wise=true` to remove the overhead.\n",
      "And if memory is not enough, you can set `force_col_wise=true`.\n",
      "[LightGBM] [Info] Total Bins 1731\n",
      "[LightGBM] [Info] Number of data points in the train set: 498503, number of used features: 13\n",
      "[LightGBM] [Info] Start training from score 7.439100\n"
     ]
    },
    {
     "name": "stderr",
     "output_type": "stream",
     "text": [
      "c:\\Users\\ADMIN\\MyProject\\School_Projects\\WeatherForecastML-DM\\.venv\\Lib\\site-packages\\sklearn\\utils\\validation.py:2739: UserWarning: X does not have valid feature names, but LGBMRegressor was fitted with feature names\n",
      "  warnings.warn(\n"
     ]
    },
    {
     "name": "stdout",
     "output_type": "stream",
     "text": [
      "[LightGBM] [Info] Auto-choosing col-wise multi-threading, the overhead of testing was 0.103389 seconds.\n",
      "You can set `force_col_wise=true` to remove the overhead.\n",
      "[LightGBM] [Info] Total Bins 1734\n",
      "[LightGBM] [Info] Number of data points in the train set: 598203, number of used features: 13\n",
      "[LightGBM] [Info] Start training from score 7.404479\n"
     ]
    },
    {
     "name": "stderr",
     "output_type": "stream",
     "text": [
      "c:\\Users\\ADMIN\\MyProject\\School_Projects\\WeatherForecastML-DM\\.venv\\Lib\\site-packages\\sklearn\\utils\\validation.py:2739: UserWarning: X does not have valid feature names, but LGBMRegressor was fitted with feature names\n",
      "  warnings.warn(\n",
      "c:\\Users\\ADMIN\\MyProject\\School_Projects\\WeatherForecastML-DM\\.venv\\Lib\\site-packages\\sklearn\\utils\\validation.py:2739: UserWarning: X does not have valid feature names, but LGBMRegressor was fitted with feature names\n",
      "  warnings.warn(\n"
     ]
    },
    {
     "name": "stdout",
     "output_type": "stream",
     "text": [
      "[RESULT] Light GBM Regressor - wind_speed_10m\n",
      "Cross-Validation Scores:\n",
      "  [CV RMSE]: 1.52 ± 0.03\n",
      "  [CV MAE]: 1.10 ± 0.02\n",
      "  [CV R2]: 0.84 ± 0.01\n",
      "\n",
      "Test Set Evaluation:\n",
      "  [MAE]: 1.47\n",
      "  [RMSE]: 2.05\n",
      "  [Train R2 Score]: 0.85\n",
      "  [Test R2 Score]: 0.78\n",
      "\n",
      "[VIF Scores]\n",
      "    feature_index       VIF\n",
      "1               1  3.491729\n",
      "2               2  2.952208\n",
      "3               3  2.694716\n",
      "0               0  2.655588\n",
      "9               9  2.574975\n",
      "8               8  2.533521\n",
      "10             10  2.142527\n",
      "6               6  2.019605\n",
      "7               7  1.777153\n",
      "12             12  1.766127\n",
      "4               4  1.320416\n",
      "5               5  1.237504\n",
      "11             11  1.094703\n",
      "[LightGBM] [Info] Auto-choosing col-wise multi-threading, the overhead of testing was 0.015795 seconds.\n",
      "You can set `force_col_wise=true` to remove the overhead.\n",
      "[LightGBM] [Info] Total Bins 1711\n",
      "[LightGBM] [Info] Number of data points in the train set: 99703, number of used features: 12\n",
      "[LightGBM] [Info] Start training from score 0.307161\n"
     ]
    },
    {
     "name": "stderr",
     "output_type": "stream",
     "text": [
      "c:\\Users\\ADMIN\\MyProject\\School_Projects\\WeatherForecastML-DM\\.venv\\Lib\\site-packages\\sklearn\\utils\\validation.py:2739: UserWarning: X does not have valid feature names, but LGBMRegressor was fitted with feature names\n",
      "  warnings.warn(\n"
     ]
    },
    {
     "name": "stdout",
     "output_type": "stream",
     "text": [
      "[LightGBM] [Info] Auto-choosing col-wise multi-threading, the overhead of testing was 0.031876 seconds.\n",
      "You can set `force_col_wise=true` to remove the overhead.\n",
      "[LightGBM] [Info] Total Bins 1722\n",
      "[LightGBM] [Info] Number of data points in the train set: 199403, number of used features: 12\n",
      "[LightGBM] [Info] Start training from score 0.297101\n"
     ]
    },
    {
     "name": "stderr",
     "output_type": "stream",
     "text": [
      "c:\\Users\\ADMIN\\MyProject\\School_Projects\\WeatherForecastML-DM\\.venv\\Lib\\site-packages\\sklearn\\utils\\validation.py:2739: UserWarning: X does not have valid feature names, but LGBMRegressor was fitted with feature names\n",
      "  warnings.warn(\n"
     ]
    },
    {
     "name": "stdout",
     "output_type": "stream",
     "text": [
      "[LightGBM] [Info] Auto-choosing row-wise multi-threading, the overhead of testing was 0.014967 seconds.\n",
      "You can set `force_row_wise=true` to remove the overhead.\n",
      "And if memory is not enough, you can set `force_col_wise=true`.\n",
      "[LightGBM] [Info] Total Bins 1727\n",
      "[LightGBM] [Info] Number of data points in the train set: 299103, number of used features: 13\n",
      "[LightGBM] [Info] Start training from score 0.283715\n"
     ]
    },
    {
     "name": "stderr",
     "output_type": "stream",
     "text": [
      "c:\\Users\\ADMIN\\MyProject\\School_Projects\\WeatherForecastML-DM\\.venv\\Lib\\site-packages\\sklearn\\utils\\validation.py:2739: UserWarning: X does not have valid feature names, but LGBMRegressor was fitted with feature names\n",
      "  warnings.warn(\n"
     ]
    },
    {
     "name": "stdout",
     "output_type": "stream",
     "text": [
      "[LightGBM] [Info] Auto-choosing col-wise multi-threading, the overhead of testing was 0.070992 seconds.\n",
      "You can set `force_col_wise=true` to remove the overhead.\n",
      "[LightGBM] [Info] Total Bins 1726\n",
      "[LightGBM] [Info] Number of data points in the train set: 398803, number of used features: 13\n",
      "[LightGBM] [Info] Start training from score 0.279990\n"
     ]
    },
    {
     "name": "stderr",
     "output_type": "stream",
     "text": [
      "c:\\Users\\ADMIN\\MyProject\\School_Projects\\WeatherForecastML-DM\\.venv\\Lib\\site-packages\\sklearn\\utils\\validation.py:2739: UserWarning: X does not have valid feature names, but LGBMRegressor was fitted with feature names\n",
      "  warnings.warn(\n"
     ]
    },
    {
     "name": "stdout",
     "output_type": "stream",
     "text": [
      "[LightGBM] [Info] Auto-choosing col-wise multi-threading, the overhead of testing was 0.077115 seconds.\n",
      "You can set `force_col_wise=true` to remove the overhead.\n",
      "[LightGBM] [Info] Total Bins 1731\n",
      "[LightGBM] [Info] Number of data points in the train set: 498503, number of used features: 13\n",
      "[LightGBM] [Info] Start training from score 0.276049\n"
     ]
    },
    {
     "name": "stderr",
     "output_type": "stream",
     "text": [
      "c:\\Users\\ADMIN\\MyProject\\School_Projects\\WeatherForecastML-DM\\.venv\\Lib\\site-packages\\sklearn\\utils\\validation.py:2739: UserWarning: X does not have valid feature names, but LGBMRegressor was fitted with feature names\n",
      "  warnings.warn(\n"
     ]
    },
    {
     "name": "stdout",
     "output_type": "stream",
     "text": [
      "[LightGBM] [Info] Auto-choosing col-wise multi-threading, the overhead of testing was 0.013272 seconds.\n",
      "You can set `force_col_wise=true` to remove the overhead.\n",
      "[LightGBM] [Info] Total Bins 1711\n",
      "[LightGBM] [Info] Number of data points in the train set: 99703, number of used features: 12\n",
      "[LightGBM] [Info] Start training from score 0.307161\n"
     ]
    },
    {
     "name": "stderr",
     "output_type": "stream",
     "text": [
      "c:\\Users\\ADMIN\\MyProject\\School_Projects\\WeatherForecastML-DM\\.venv\\Lib\\site-packages\\sklearn\\utils\\validation.py:2739: UserWarning: X does not have valid feature names, but LGBMRegressor was fitted with feature names\n",
      "  warnings.warn(\n"
     ]
    },
    {
     "name": "stdout",
     "output_type": "stream",
     "text": [
      "[LightGBM] [Info] Auto-choosing col-wise multi-threading, the overhead of testing was 0.022919 seconds.\n",
      "You can set `force_col_wise=true` to remove the overhead.\n",
      "[LightGBM] [Info] Total Bins 1722\n",
      "[LightGBM] [Info] Number of data points in the train set: 199403, number of used features: 12\n",
      "[LightGBM] [Info] Start training from score 0.297101\n"
     ]
    },
    {
     "name": "stderr",
     "output_type": "stream",
     "text": [
      "c:\\Users\\ADMIN\\MyProject\\School_Projects\\WeatherForecastML-DM\\.venv\\Lib\\site-packages\\sklearn\\utils\\validation.py:2739: UserWarning: X does not have valid feature names, but LGBMRegressor was fitted with feature names\n",
      "  warnings.warn(\n"
     ]
    },
    {
     "name": "stdout",
     "output_type": "stream",
     "text": [
      "[LightGBM] [Info] Auto-choosing col-wise multi-threading, the overhead of testing was 0.037875 seconds.\n",
      "You can set `force_col_wise=true` to remove the overhead.\n",
      "[LightGBM] [Info] Total Bins 1727\n",
      "[LightGBM] [Info] Number of data points in the train set: 299103, number of used features: 13\n",
      "[LightGBM] [Info] Start training from score 0.283715\n"
     ]
    },
    {
     "name": "stderr",
     "output_type": "stream",
     "text": [
      "c:\\Users\\ADMIN\\MyProject\\School_Projects\\WeatherForecastML-DM\\.venv\\Lib\\site-packages\\sklearn\\utils\\validation.py:2739: UserWarning: X does not have valid feature names, but LGBMRegressor was fitted with feature names\n",
      "  warnings.warn(\n"
     ]
    },
    {
     "name": "stdout",
     "output_type": "stream",
     "text": [
      "[LightGBM] [Info] Auto-choosing row-wise multi-threading, the overhead of testing was 0.011999 seconds.\n",
      "You can set `force_row_wise=true` to remove the overhead.\n",
      "And if memory is not enough, you can set `force_col_wise=true`.\n",
      "[LightGBM] [Info] Total Bins 1726\n",
      "[LightGBM] [Info] Number of data points in the train set: 398803, number of used features: 13\n",
      "[LightGBM] [Info] Start training from score 0.279990\n"
     ]
    },
    {
     "name": "stderr",
     "output_type": "stream",
     "text": [
      "c:\\Users\\ADMIN\\MyProject\\School_Projects\\WeatherForecastML-DM\\.venv\\Lib\\site-packages\\sklearn\\utils\\validation.py:2739: UserWarning: X does not have valid feature names, but LGBMRegressor was fitted with feature names\n",
      "  warnings.warn(\n"
     ]
    },
    {
     "name": "stdout",
     "output_type": "stream",
     "text": [
      "[LightGBM] [Info] Auto-choosing row-wise multi-threading, the overhead of testing was 0.019890 seconds.\n",
      "You can set `force_row_wise=true` to remove the overhead.\n",
      "And if memory is not enough, you can set `force_col_wise=true`.\n",
      "[LightGBM] [Info] Total Bins 1731\n",
      "[LightGBM] [Info] Number of data points in the train set: 498503, number of used features: 13\n",
      "[LightGBM] [Info] Start training from score 0.276049\n"
     ]
    },
    {
     "name": "stderr",
     "output_type": "stream",
     "text": [
      "c:\\Users\\ADMIN\\MyProject\\School_Projects\\WeatherForecastML-DM\\.venv\\Lib\\site-packages\\sklearn\\utils\\validation.py:2739: UserWarning: X does not have valid feature names, but LGBMRegressor was fitted with feature names\n",
      "  warnings.warn(\n"
     ]
    },
    {
     "name": "stdout",
     "output_type": "stream",
     "text": [
      "[LightGBM] [Info] Auto-choosing col-wise multi-threading, the overhead of testing was 0.014079 seconds.\n",
      "You can set `force_col_wise=true` to remove the overhead.\n",
      "[LightGBM] [Info] Total Bins 1711\n",
      "[LightGBM] [Info] Number of data points in the train set: 99703, number of used features: 12\n",
      "[LightGBM] [Info] Start training from score 0.307161\n"
     ]
    },
    {
     "name": "stderr",
     "output_type": "stream",
     "text": [
      "c:\\Users\\ADMIN\\MyProject\\School_Projects\\WeatherForecastML-DM\\.venv\\Lib\\site-packages\\sklearn\\utils\\validation.py:2739: UserWarning: X does not have valid feature names, but LGBMRegressor was fitted with feature names\n",
      "  warnings.warn(\n"
     ]
    },
    {
     "name": "stdout",
     "output_type": "stream",
     "text": [
      "[LightGBM] [Info] Auto-choosing col-wise multi-threading, the overhead of testing was 0.024784 seconds.\n",
      "You can set `force_col_wise=true` to remove the overhead.\n",
      "[LightGBM] [Info] Total Bins 1722\n",
      "[LightGBM] [Info] Number of data points in the train set: 199403, number of used features: 12\n",
      "[LightGBM] [Info] Start training from score 0.297101\n"
     ]
    },
    {
     "name": "stderr",
     "output_type": "stream",
     "text": [
      "c:\\Users\\ADMIN\\MyProject\\School_Projects\\WeatherForecastML-DM\\.venv\\Lib\\site-packages\\sklearn\\utils\\validation.py:2739: UserWarning: X does not have valid feature names, but LGBMRegressor was fitted with feature names\n",
      "  warnings.warn(\n"
     ]
    },
    {
     "name": "stdout",
     "output_type": "stream",
     "text": [
      "[LightGBM] [Info] Auto-choosing row-wise multi-threading, the overhead of testing was 0.009422 seconds.\n",
      "You can set `force_row_wise=true` to remove the overhead.\n",
      "And if memory is not enough, you can set `force_col_wise=true`.\n",
      "[LightGBM] [Info] Total Bins 1727\n",
      "[LightGBM] [Info] Number of data points in the train set: 299103, number of used features: 13\n",
      "[LightGBM] [Info] Start training from score 0.283715\n"
     ]
    },
    {
     "name": "stderr",
     "output_type": "stream",
     "text": [
      "c:\\Users\\ADMIN\\MyProject\\School_Projects\\WeatherForecastML-DM\\.venv\\Lib\\site-packages\\sklearn\\utils\\validation.py:2739: UserWarning: X does not have valid feature names, but LGBMRegressor was fitted with feature names\n",
      "  warnings.warn(\n"
     ]
    },
    {
     "name": "stdout",
     "output_type": "stream",
     "text": [
      "[LightGBM] [Info] Auto-choosing row-wise multi-threading, the overhead of testing was 0.011016 seconds.\n",
      "You can set `force_row_wise=true` to remove the overhead.\n",
      "And if memory is not enough, you can set `force_col_wise=true`.\n",
      "[LightGBM] [Info] Total Bins 1726\n",
      "[LightGBM] [Info] Number of data points in the train set: 398803, number of used features: 13\n",
      "[LightGBM] [Info] Start training from score 0.279990\n"
     ]
    },
    {
     "name": "stderr",
     "output_type": "stream",
     "text": [
      "c:\\Users\\ADMIN\\MyProject\\School_Projects\\WeatherForecastML-DM\\.venv\\Lib\\site-packages\\sklearn\\utils\\validation.py:2739: UserWarning: X does not have valid feature names, but LGBMRegressor was fitted with feature names\n",
      "  warnings.warn(\n"
     ]
    },
    {
     "name": "stdout",
     "output_type": "stream",
     "text": [
      "[LightGBM] [Info] Auto-choosing row-wise multi-threading, the overhead of testing was 0.017977 seconds.\n",
      "You can set `force_row_wise=true` to remove the overhead.\n",
      "And if memory is not enough, you can set `force_col_wise=true`.\n",
      "[LightGBM] [Info] Total Bins 1731\n",
      "[LightGBM] [Info] Number of data points in the train set: 498503, number of used features: 13\n",
      "[LightGBM] [Info] Start training from score 0.276049\n"
     ]
    },
    {
     "name": "stderr",
     "output_type": "stream",
     "text": [
      "c:\\Users\\ADMIN\\MyProject\\School_Projects\\WeatherForecastML-DM\\.venv\\Lib\\site-packages\\sklearn\\utils\\validation.py:2739: UserWarning: X does not have valid feature names, but LGBMRegressor was fitted with feature names\n",
      "  warnings.warn(\n"
     ]
    },
    {
     "name": "stdout",
     "output_type": "stream",
     "text": [
      "[LightGBM] [Info] Auto-choosing col-wise multi-threading, the overhead of testing was 0.063303 seconds.\n",
      "You can set `force_col_wise=true` to remove the overhead.\n",
      "[LightGBM] [Info] Total Bins 1734\n",
      "[LightGBM] [Info] Number of data points in the train set: 598203, number of used features: 13\n",
      "[LightGBM] [Info] Start training from score 0.274609\n"
     ]
    },
    {
     "name": "stderr",
     "output_type": "stream",
     "text": [
      "c:\\Users\\ADMIN\\MyProject\\School_Projects\\WeatherForecastML-DM\\.venv\\Lib\\site-packages\\sklearn\\utils\\validation.py:2739: UserWarning: X does not have valid feature names, but LGBMRegressor was fitted with feature names\n",
      "  warnings.warn(\n",
      "c:\\Users\\ADMIN\\MyProject\\School_Projects\\WeatherForecastML-DM\\.venv\\Lib\\site-packages\\sklearn\\utils\\validation.py:2739: UserWarning: X does not have valid feature names, but LGBMRegressor was fitted with feature names\n",
      "  warnings.warn(\n"
     ]
    },
    {
     "name": "stdout",
     "output_type": "stream",
     "text": [
      "[RESULT] Light GBM Regressor - wind_direction_10m_sin\n",
      "Cross-Validation Scores:\n",
      "  [CV RMSE]: 0.15 ± 0.00\n",
      "  [CV MAE]: 0.08 ± 0.00\n",
      "  [CV R2]: 0.93 ± 0.00\n",
      "\n",
      "Test Set Evaluation:\n",
      "  [MAE]: 0.08\n",
      "  [RMSE]: 0.16\n",
      "  [Train R2 Score]: 0.93\n",
      "  [Test R2 Score]: 0.91\n",
      "\n",
      "[VIF Scores]\n",
      "    feature_index       VIF\n",
      "1               1  3.491729\n",
      "2               2  2.952208\n",
      "3               3  2.694716\n",
      "0               0  2.655588\n",
      "9               9  2.574975\n",
      "8               8  2.533521\n",
      "10             10  2.142527\n",
      "6               6  2.019605\n",
      "7               7  1.777153\n",
      "12             12  1.766127\n",
      "4               4  1.320416\n",
      "5               5  1.237504\n",
      "11             11  1.094703\n",
      "[LightGBM] [Info] Auto-choosing col-wise multi-threading, the overhead of testing was 0.015990 seconds.\n",
      "You can set `force_col_wise=true` to remove the overhead.\n",
      "[LightGBM] [Info] Total Bins 1966\n",
      "[LightGBM] [Info] Number of data points in the train set: 99703, number of used features: 13\n",
      "[LightGBM] [Info] Start training from score -0.072123\n"
     ]
    },
    {
     "name": "stderr",
     "output_type": "stream",
     "text": [
      "c:\\Users\\ADMIN\\MyProject\\School_Projects\\WeatherForecastML-DM\\.venv\\Lib\\site-packages\\sklearn\\utils\\validation.py:2739: UserWarning: X does not have valid feature names, but LGBMRegressor was fitted with feature names\n",
      "  warnings.warn(\n"
     ]
    },
    {
     "name": "stdout",
     "output_type": "stream",
     "text": [
      "[LightGBM] [Info] Auto-choosing col-wise multi-threading, the overhead of testing was 0.018503 seconds.\n",
      "You can set `force_col_wise=true` to remove the overhead.\n",
      "[LightGBM] [Info] Total Bins 1977\n",
      "[LightGBM] [Info] Number of data points in the train set: 199403, number of used features: 13\n",
      "[LightGBM] [Info] Start training from score -0.086832\n"
     ]
    },
    {
     "name": "stderr",
     "output_type": "stream",
     "text": [
      "c:\\Users\\ADMIN\\MyProject\\School_Projects\\WeatherForecastML-DM\\.venv\\Lib\\site-packages\\sklearn\\utils\\validation.py:2739: UserWarning: X does not have valid feature names, but LGBMRegressor was fitted with feature names\n",
      "  warnings.warn(\n"
     ]
    },
    {
     "name": "stdout",
     "output_type": "stream",
     "text": [
      "[LightGBM] [Info] Auto-choosing row-wise multi-threading, the overhead of testing was 0.010670 seconds.\n",
      "You can set `force_row_wise=true` to remove the overhead.\n",
      "And if memory is not enough, you can set `force_col_wise=true`.\n",
      "[LightGBM] [Info] Total Bins 1982\n",
      "[LightGBM] [Info] Number of data points in the train set: 299103, number of used features: 14\n",
      "[LightGBM] [Info] Start training from score -0.059191\n"
     ]
    },
    {
     "name": "stderr",
     "output_type": "stream",
     "text": [
      "c:\\Users\\ADMIN\\MyProject\\School_Projects\\WeatherForecastML-DM\\.venv\\Lib\\site-packages\\sklearn\\utils\\validation.py:2739: UserWarning: X does not have valid feature names, but LGBMRegressor was fitted with feature names\n",
      "  warnings.warn(\n"
     ]
    },
    {
     "name": "stdout",
     "output_type": "stream",
     "text": [
      "[LightGBM] [Info] Auto-choosing row-wise multi-threading, the overhead of testing was 0.017131 seconds.\n",
      "You can set `force_row_wise=true` to remove the overhead.\n",
      "And if memory is not enough, you can set `force_col_wise=true`.\n",
      "[LightGBM] [Info] Total Bins 1981\n",
      "[LightGBM] [Info] Number of data points in the train set: 398803, number of used features: 14\n",
      "[LightGBM] [Info] Start training from score -0.040078\n"
     ]
    },
    {
     "name": "stderr",
     "output_type": "stream",
     "text": [
      "c:\\Users\\ADMIN\\MyProject\\School_Projects\\WeatherForecastML-DM\\.venv\\Lib\\site-packages\\sklearn\\utils\\validation.py:2739: UserWarning: X does not have valid feature names, but LGBMRegressor was fitted with feature names\n",
      "  warnings.warn(\n"
     ]
    },
    {
     "name": "stdout",
     "output_type": "stream",
     "text": [
      "[LightGBM] [Info] Auto-choosing row-wise multi-threading, the overhead of testing was 0.016021 seconds.\n",
      "You can set `force_row_wise=true` to remove the overhead.\n",
      "And if memory is not enough, you can set `force_col_wise=true`.\n",
      "[LightGBM] [Info] Total Bins 1986\n",
      "[LightGBM] [Info] Number of data points in the train set: 498503, number of used features: 14\n",
      "[LightGBM] [Info] Start training from score -0.034305\n"
     ]
    },
    {
     "name": "stderr",
     "output_type": "stream",
     "text": [
      "c:\\Users\\ADMIN\\MyProject\\School_Projects\\WeatherForecastML-DM\\.venv\\Lib\\site-packages\\sklearn\\utils\\validation.py:2739: UserWarning: X does not have valid feature names, but LGBMRegressor was fitted with feature names\n",
      "  warnings.warn(\n"
     ]
    },
    {
     "name": "stdout",
     "output_type": "stream",
     "text": [
      "[LightGBM] [Info] Auto-choosing row-wise multi-threading, the overhead of testing was 0.002875 seconds.\n",
      "You can set `force_row_wise=true` to remove the overhead.\n",
      "And if memory is not enough, you can set `force_col_wise=true`.\n",
      "[LightGBM] [Info] Total Bins 1966\n",
      "[LightGBM] [Info] Number of data points in the train set: 99703, number of used features: 13\n",
      "[LightGBM] [Info] Start training from score -0.072123\n"
     ]
    },
    {
     "name": "stderr",
     "output_type": "stream",
     "text": [
      "c:\\Users\\ADMIN\\MyProject\\School_Projects\\WeatherForecastML-DM\\.venv\\Lib\\site-packages\\sklearn\\utils\\validation.py:2739: UserWarning: X does not have valid feature names, but LGBMRegressor was fitted with feature names\n",
      "  warnings.warn(\n"
     ]
    },
    {
     "name": "stdout",
     "output_type": "stream",
     "text": [
      "[LightGBM] [Info] Auto-choosing col-wise multi-threading, the overhead of testing was 0.022040 seconds.\n",
      "You can set `force_col_wise=true` to remove the overhead.\n",
      "[LightGBM] [Info] Total Bins 1977\n",
      "[LightGBM] [Info] Number of data points in the train set: 199403, number of used features: 13\n",
      "[LightGBM] [Info] Start training from score -0.086832\n"
     ]
    },
    {
     "name": "stderr",
     "output_type": "stream",
     "text": [
      "c:\\Users\\ADMIN\\MyProject\\School_Projects\\WeatherForecastML-DM\\.venv\\Lib\\site-packages\\sklearn\\utils\\validation.py:2739: UserWarning: X does not have valid feature names, but LGBMRegressor was fitted with feature names\n",
      "  warnings.warn(\n"
     ]
    },
    {
     "name": "stdout",
     "output_type": "stream",
     "text": [
      "[LightGBM] [Info] Auto-choosing col-wise multi-threading, the overhead of testing was 0.030869 seconds.\n",
      "You can set `force_col_wise=true` to remove the overhead.\n",
      "[LightGBM] [Info] Total Bins 1982\n",
      "[LightGBM] [Info] Number of data points in the train set: 299103, number of used features: 14\n",
      "[LightGBM] [Info] Start training from score -0.059191\n"
     ]
    },
    {
     "name": "stderr",
     "output_type": "stream",
     "text": [
      "c:\\Users\\ADMIN\\MyProject\\School_Projects\\WeatherForecastML-DM\\.venv\\Lib\\site-packages\\sklearn\\utils\\validation.py:2739: UserWarning: X does not have valid feature names, but LGBMRegressor was fitted with feature names\n",
      "  warnings.warn(\n"
     ]
    },
    {
     "name": "stdout",
     "output_type": "stream",
     "text": [
      "[LightGBM] [Info] Auto-choosing row-wise multi-threading, the overhead of testing was 0.011625 seconds.\n",
      "You can set `force_row_wise=true` to remove the overhead.\n",
      "And if memory is not enough, you can set `force_col_wise=true`.\n",
      "[LightGBM] [Info] Total Bins 1981\n",
      "[LightGBM] [Info] Number of data points in the train set: 398803, number of used features: 14\n",
      "[LightGBM] [Info] Start training from score -0.040078\n"
     ]
    },
    {
     "name": "stderr",
     "output_type": "stream",
     "text": [
      "c:\\Users\\ADMIN\\MyProject\\School_Projects\\WeatherForecastML-DM\\.venv\\Lib\\site-packages\\sklearn\\utils\\validation.py:2739: UserWarning: X does not have valid feature names, but LGBMRegressor was fitted with feature names\n",
      "  warnings.warn(\n"
     ]
    },
    {
     "name": "stdout",
     "output_type": "stream",
     "text": [
      "[LightGBM] [Info] Auto-choosing row-wise multi-threading, the overhead of testing was 0.015600 seconds.\n",
      "You can set `force_row_wise=true` to remove the overhead.\n",
      "And if memory is not enough, you can set `force_col_wise=true`.\n",
      "[LightGBM] [Info] Total Bins 1986\n",
      "[LightGBM] [Info] Number of data points in the train set: 498503, number of used features: 14\n",
      "[LightGBM] [Info] Start training from score -0.034305\n"
     ]
    },
    {
     "name": "stderr",
     "output_type": "stream",
     "text": [
      "c:\\Users\\ADMIN\\MyProject\\School_Projects\\WeatherForecastML-DM\\.venv\\Lib\\site-packages\\sklearn\\utils\\validation.py:2739: UserWarning: X does not have valid feature names, but LGBMRegressor was fitted with feature names\n",
      "  warnings.warn(\n"
     ]
    },
    {
     "name": "stdout",
     "output_type": "stream",
     "text": [
      "[LightGBM] [Info] Auto-choosing row-wise multi-threading, the overhead of testing was 0.002765 seconds.\n",
      "You can set `force_row_wise=true` to remove the overhead.\n",
      "And if memory is not enough, you can set `force_col_wise=true`.\n",
      "[LightGBM] [Info] Total Bins 1966\n",
      "[LightGBM] [Info] Number of data points in the train set: 99703, number of used features: 13\n",
      "[LightGBM] [Info] Start training from score -0.072123\n"
     ]
    },
    {
     "name": "stderr",
     "output_type": "stream",
     "text": [
      "c:\\Users\\ADMIN\\MyProject\\School_Projects\\WeatherForecastML-DM\\.venv\\Lib\\site-packages\\sklearn\\utils\\validation.py:2739: UserWarning: X does not have valid feature names, but LGBMRegressor was fitted with feature names\n",
      "  warnings.warn(\n"
     ]
    },
    {
     "name": "stdout",
     "output_type": "stream",
     "text": [
      "[LightGBM] [Info] Auto-choosing col-wise multi-threading, the overhead of testing was 0.015524 seconds.\n",
      "You can set `force_col_wise=true` to remove the overhead.\n",
      "[LightGBM] [Info] Total Bins 1977\n",
      "[LightGBM] [Info] Number of data points in the train set: 199403, number of used features: 13\n",
      "[LightGBM] [Info] Start training from score -0.086832\n"
     ]
    },
    {
     "name": "stderr",
     "output_type": "stream",
     "text": [
      "c:\\Users\\ADMIN\\MyProject\\School_Projects\\WeatherForecastML-DM\\.venv\\Lib\\site-packages\\sklearn\\utils\\validation.py:2739: UserWarning: X does not have valid feature names, but LGBMRegressor was fitted with feature names\n",
      "  warnings.warn(\n"
     ]
    },
    {
     "name": "stdout",
     "output_type": "stream",
     "text": [
      "[LightGBM] [Info] Auto-choosing row-wise multi-threading, the overhead of testing was 0.009090 seconds.\n",
      "You can set `force_row_wise=true` to remove the overhead.\n",
      "And if memory is not enough, you can set `force_col_wise=true`.\n",
      "[LightGBM] [Info] Total Bins 1982\n",
      "[LightGBM] [Info] Number of data points in the train set: 299103, number of used features: 14\n",
      "[LightGBM] [Info] Start training from score -0.059191\n"
     ]
    },
    {
     "name": "stderr",
     "output_type": "stream",
     "text": [
      "c:\\Users\\ADMIN\\MyProject\\School_Projects\\WeatherForecastML-DM\\.venv\\Lib\\site-packages\\sklearn\\utils\\validation.py:2739: UserWarning: X does not have valid feature names, but LGBMRegressor was fitted with feature names\n",
      "  warnings.warn(\n"
     ]
    },
    {
     "name": "stdout",
     "output_type": "stream",
     "text": [
      "[LightGBM] [Info] Auto-choosing row-wise multi-threading, the overhead of testing was 0.013141 seconds.\n",
      "You can set `force_row_wise=true` to remove the overhead.\n",
      "And if memory is not enough, you can set `force_col_wise=true`.\n",
      "[LightGBM] [Info] Total Bins 1981\n",
      "[LightGBM] [Info] Number of data points in the train set: 398803, number of used features: 14\n",
      "[LightGBM] [Info] Start training from score -0.040078\n"
     ]
    },
    {
     "name": "stderr",
     "output_type": "stream",
     "text": [
      "c:\\Users\\ADMIN\\MyProject\\School_Projects\\WeatherForecastML-DM\\.venv\\Lib\\site-packages\\sklearn\\utils\\validation.py:2739: UserWarning: X does not have valid feature names, but LGBMRegressor was fitted with feature names\n",
      "  warnings.warn(\n"
     ]
    },
    {
     "name": "stdout",
     "output_type": "stream",
     "text": [
      "[LightGBM] [Info] Auto-choosing row-wise multi-threading, the overhead of testing was 0.016195 seconds.\n",
      "You can set `force_row_wise=true` to remove the overhead.\n",
      "And if memory is not enough, you can set `force_col_wise=true`.\n",
      "[LightGBM] [Info] Total Bins 1986\n",
      "[LightGBM] [Info] Number of data points in the train set: 498503, number of used features: 14\n",
      "[LightGBM] [Info] Start training from score -0.034305\n"
     ]
    },
    {
     "name": "stderr",
     "output_type": "stream",
     "text": [
      "c:\\Users\\ADMIN\\MyProject\\School_Projects\\WeatherForecastML-DM\\.venv\\Lib\\site-packages\\sklearn\\utils\\validation.py:2739: UserWarning: X does not have valid feature names, but LGBMRegressor was fitted with feature names\n",
      "  warnings.warn(\n"
     ]
    },
    {
     "name": "stdout",
     "output_type": "stream",
     "text": [
      "[LightGBM] [Info] Auto-choosing col-wise multi-threading, the overhead of testing was 0.248206 seconds.\n",
      "You can set `force_col_wise=true` to remove the overhead.\n",
      "[LightGBM] [Info] Total Bins 1989\n",
      "[LightGBM] [Info] Number of data points in the train set: 598203, number of used features: 14\n",
      "[LightGBM] [Info] Start training from score -0.029907\n"
     ]
    },
    {
     "name": "stderr",
     "output_type": "stream",
     "text": [
      "c:\\Users\\ADMIN\\MyProject\\School_Projects\\WeatherForecastML-DM\\.venv\\Lib\\site-packages\\sklearn\\utils\\validation.py:2739: UserWarning: X does not have valid feature names, but LGBMRegressor was fitted with feature names\n",
      "  warnings.warn(\n",
      "c:\\Users\\ADMIN\\MyProject\\School_Projects\\WeatherForecastML-DM\\.venv\\Lib\\site-packages\\sklearn\\utils\\validation.py:2739: UserWarning: X does not have valid feature names, but LGBMRegressor was fitted with feature names\n",
      "  warnings.warn(\n"
     ]
    },
    {
     "name": "stdout",
     "output_type": "stream",
     "text": [
      "[RESULT] Light GBM Regressor - wind_direction_10m_cos\n",
      "Cross-Validation Scores:\n",
      "  [CV RMSE]: 0.14 ± 0.00\n",
      "  [CV MAE]: 0.06 ± 0.00\n",
      "  [CV R2]: 0.97 ± 0.00\n",
      "\n",
      "Test Set Evaluation:\n",
      "  [MAE]: 0.07\n",
      "  [RMSE]: 0.15\n",
      "  [Train R2 Score]: 0.97\n",
      "  [Test R2 Score]: 0.96\n",
      "\n",
      "[VIF Scores]\n",
      "    feature_index       VIF\n",
      "1               1  3.518548\n",
      "2               2  2.956874\n",
      "3               3  2.794677\n",
      "0               0  2.661707\n",
      "9               9  2.575252\n",
      "8               8  2.536658\n",
      "10             10  2.143972\n",
      "6               6  2.048778\n",
      "7               7  1.811931\n",
      "13             13  1.804813\n",
      "4               4  1.493721\n",
      "11             11  1.472117\n",
      "5               5  1.247410\n",
      "12             12  1.160987\n",
      "[LightGBM] [Info] Auto-choosing col-wise multi-threading, the overhead of testing was 0.013933 seconds.\n",
      "You can set `force_col_wise=true` to remove the overhead.\n",
      "[LightGBM] [Info] Total Bins 1711\n",
      "[LightGBM] [Info] Number of data points in the train set: 99703, number of used features: 12\n",
      "[LightGBM] [Info] Start training from score 0.178629\n"
     ]
    },
    {
     "name": "stderr",
     "output_type": "stream",
     "text": [
      "c:\\Users\\ADMIN\\MyProject\\School_Projects\\WeatherForecastML-DM\\.venv\\Lib\\site-packages\\sklearn\\utils\\validation.py:2739: UserWarning: X does not have valid feature names, but LGBMRegressor was fitted with feature names\n",
      "  warnings.warn(\n"
     ]
    },
    {
     "name": "stdout",
     "output_type": "stream",
     "text": [
      "[LightGBM] [Info] Auto-choosing col-wise multi-threading, the overhead of testing was 0.033398 seconds.\n",
      "You can set `force_col_wise=true` to remove the overhead.\n",
      "[LightGBM] [Info] Total Bins 1722\n",
      "[LightGBM] [Info] Number of data points in the train set: 199403, number of used features: 12\n",
      "[LightGBM] [Info] Start training from score 0.187446\n"
     ]
    },
    {
     "name": "stderr",
     "output_type": "stream",
     "text": [
      "c:\\Users\\ADMIN\\MyProject\\School_Projects\\WeatherForecastML-DM\\.venv\\Lib\\site-packages\\sklearn\\utils\\validation.py:2739: UserWarning: X does not have valid feature names, but LGBMRegressor was fitted with feature names\n",
      "  warnings.warn(\n"
     ]
    },
    {
     "name": "stdout",
     "output_type": "stream",
     "text": [
      "[LightGBM] [Info] Auto-choosing col-wise multi-threading, the overhead of testing was 0.049211 seconds.\n",
      "You can set `force_col_wise=true` to remove the overhead.\n",
      "[LightGBM] [Info] Total Bins 1727\n",
      "[LightGBM] [Info] Number of data points in the train set: 299103, number of used features: 13\n",
      "[LightGBM] [Info] Start training from score 0.191306\n"
     ]
    },
    {
     "name": "stderr",
     "output_type": "stream",
     "text": [
      "c:\\Users\\ADMIN\\MyProject\\School_Projects\\WeatherForecastML-DM\\.venv\\Lib\\site-packages\\sklearn\\utils\\validation.py:2739: UserWarning: X does not have valid feature names, but LGBMRegressor was fitted with feature names\n",
      "  warnings.warn(\n"
     ]
    },
    {
     "name": "stdout",
     "output_type": "stream",
     "text": [
      "[LightGBM] [Info] Auto-choosing col-wise multi-threading, the overhead of testing was 0.080001 seconds.\n",
      "You can set `force_col_wise=true` to remove the overhead.\n",
      "[LightGBM] [Info] Total Bins 1726\n",
      "[LightGBM] [Info] Number of data points in the train set: 398803, number of used features: 13\n",
      "[LightGBM] [Info] Start training from score 0.197875\n"
     ]
    },
    {
     "name": "stderr",
     "output_type": "stream",
     "text": [
      "c:\\Users\\ADMIN\\MyProject\\School_Projects\\WeatherForecastML-DM\\.venv\\Lib\\site-packages\\sklearn\\utils\\validation.py:2739: UserWarning: X does not have valid feature names, but LGBMRegressor was fitted with feature names\n",
      "  warnings.warn(\n"
     ]
    },
    {
     "name": "stdout",
     "output_type": "stream",
     "text": [
      "[LightGBM] [Info] Auto-choosing col-wise multi-threading, the overhead of testing was 0.099209 seconds.\n",
      "You can set `force_col_wise=true` to remove the overhead.\n",
      "[LightGBM] [Info] Total Bins 1731\n",
      "[LightGBM] [Info] Number of data points in the train set: 498503, number of used features: 13\n",
      "[LightGBM] [Info] Start training from score 0.200013\n"
     ]
    },
    {
     "name": "stderr",
     "output_type": "stream",
     "text": [
      "c:\\Users\\ADMIN\\MyProject\\School_Projects\\WeatherForecastML-DM\\.venv\\Lib\\site-packages\\sklearn\\utils\\validation.py:2739: UserWarning: X does not have valid feature names, but LGBMRegressor was fitted with feature names\n",
      "  warnings.warn(\n"
     ]
    },
    {
     "name": "stdout",
     "output_type": "stream",
     "text": [
      "[LightGBM] [Info] Auto-choosing row-wise multi-threading, the overhead of testing was 0.005071 seconds.\n",
      "You can set `force_row_wise=true` to remove the overhead.\n",
      "And if memory is not enough, you can set `force_col_wise=true`.\n",
      "[LightGBM] [Info] Total Bins 1711\n",
      "[LightGBM] [Info] Number of data points in the train set: 99703, number of used features: 12\n",
      "[LightGBM] [Info] Start training from score 0.178629\n"
     ]
    },
    {
     "name": "stderr",
     "output_type": "stream",
     "text": [
      "c:\\Users\\ADMIN\\MyProject\\School_Projects\\WeatherForecastML-DM\\.venv\\Lib\\site-packages\\sklearn\\utils\\validation.py:2739: UserWarning: X does not have valid feature names, but LGBMRegressor was fitted with feature names\n",
      "  warnings.warn(\n"
     ]
    },
    {
     "name": "stdout",
     "output_type": "stream",
     "text": [
      "[LightGBM] [Info] Auto-choosing col-wise multi-threading, the overhead of testing was 0.021867 seconds.\n",
      "You can set `force_col_wise=true` to remove the overhead.\n",
      "[LightGBM] [Info] Total Bins 1722\n",
      "[LightGBM] [Info] Number of data points in the train set: 199403, number of used features: 12\n",
      "[LightGBM] [Info] Start training from score 0.187446\n"
     ]
    },
    {
     "name": "stderr",
     "output_type": "stream",
     "text": [
      "c:\\Users\\ADMIN\\MyProject\\School_Projects\\WeatherForecastML-DM\\.venv\\Lib\\site-packages\\sklearn\\utils\\validation.py:2739: UserWarning: X does not have valid feature names, but LGBMRegressor was fitted with feature names\n",
      "  warnings.warn(\n"
     ]
    },
    {
     "name": "stdout",
     "output_type": "stream",
     "text": [
      "[LightGBM] [Info] Auto-choosing col-wise multi-threading, the overhead of testing was 0.095364 seconds.\n",
      "You can set `force_col_wise=true` to remove the overhead.\n",
      "[LightGBM] [Info] Total Bins 1727\n",
      "[LightGBM] [Info] Number of data points in the train set: 299103, number of used features: 13\n",
      "[LightGBM] [Info] Start training from score 0.191306\n"
     ]
    },
    {
     "name": "stderr",
     "output_type": "stream",
     "text": [
      "c:\\Users\\ADMIN\\MyProject\\School_Projects\\WeatherForecastML-DM\\.venv\\Lib\\site-packages\\sklearn\\utils\\validation.py:2739: UserWarning: X does not have valid feature names, but LGBMRegressor was fitted with feature names\n",
      "  warnings.warn(\n"
     ]
    },
    {
     "name": "stdout",
     "output_type": "stream",
     "text": [
      "[LightGBM] [Info] Auto-choosing col-wise multi-threading, the overhead of testing was 0.050563 seconds.\n",
      "You can set `force_col_wise=true` to remove the overhead.\n",
      "[LightGBM] [Info] Total Bins 1726\n",
      "[LightGBM] [Info] Number of data points in the train set: 398803, number of used features: 13\n",
      "[LightGBM] [Info] Start training from score 0.197875\n"
     ]
    },
    {
     "name": "stderr",
     "output_type": "stream",
     "text": [
      "c:\\Users\\ADMIN\\MyProject\\School_Projects\\WeatherForecastML-DM\\.venv\\Lib\\site-packages\\sklearn\\utils\\validation.py:2739: UserWarning: X does not have valid feature names, but LGBMRegressor was fitted with feature names\n",
      "  warnings.warn(\n"
     ]
    },
    {
     "name": "stdout",
     "output_type": "stream",
     "text": [
      "[LightGBM] [Info] Auto-choosing row-wise multi-threading, the overhead of testing was 0.018863 seconds.\n",
      "You can set `force_row_wise=true` to remove the overhead.\n",
      "And if memory is not enough, you can set `force_col_wise=true`.\n",
      "[LightGBM] [Info] Total Bins 1731\n",
      "[LightGBM] [Info] Number of data points in the train set: 498503, number of used features: 13\n",
      "[LightGBM] [Info] Start training from score 0.200013\n"
     ]
    },
    {
     "name": "stderr",
     "output_type": "stream",
     "text": [
      "c:\\Users\\ADMIN\\MyProject\\School_Projects\\WeatherForecastML-DM\\.venv\\Lib\\site-packages\\sklearn\\utils\\validation.py:2739: UserWarning: X does not have valid feature names, but LGBMRegressor was fitted with feature names\n",
      "  warnings.warn(\n"
     ]
    },
    {
     "name": "stdout",
     "output_type": "stream",
     "text": [
      "[LightGBM] [Info] Auto-choosing row-wise multi-threading, the overhead of testing was 0.003132 seconds.\n",
      "You can set `force_row_wise=true` to remove the overhead.\n",
      "And if memory is not enough, you can set `force_col_wise=true`.\n",
      "[LightGBM] [Info] Total Bins 1711\n",
      "[LightGBM] [Info] Number of data points in the train set: 99703, number of used features: 12\n",
      "[LightGBM] [Info] Start training from score 0.178629\n"
     ]
    },
    {
     "name": "stderr",
     "output_type": "stream",
     "text": [
      "c:\\Users\\ADMIN\\MyProject\\School_Projects\\WeatherForecastML-DM\\.venv\\Lib\\site-packages\\sklearn\\utils\\validation.py:2739: UserWarning: X does not have valid feature names, but LGBMRegressor was fitted with feature names\n",
      "  warnings.warn(\n"
     ]
    },
    {
     "name": "stdout",
     "output_type": "stream",
     "text": [
      "[LightGBM] [Info] Auto-choosing row-wise multi-threading, the overhead of testing was 0.004898 seconds.\n",
      "You can set `force_row_wise=true` to remove the overhead.\n",
      "And if memory is not enough, you can set `force_col_wise=true`.\n",
      "[LightGBM] [Info] Total Bins 1722\n",
      "[LightGBM] [Info] Number of data points in the train set: 199403, number of used features: 12\n",
      "[LightGBM] [Info] Start training from score 0.187446\n"
     ]
    },
    {
     "name": "stderr",
     "output_type": "stream",
     "text": [
      "c:\\Users\\ADMIN\\MyProject\\School_Projects\\WeatherForecastML-DM\\.venv\\Lib\\site-packages\\sklearn\\utils\\validation.py:2739: UserWarning: X does not have valid feature names, but LGBMRegressor was fitted with feature names\n",
      "  warnings.warn(\n"
     ]
    },
    {
     "name": "stdout",
     "output_type": "stream",
     "text": [
      "[LightGBM] [Info] Auto-choosing col-wise multi-threading, the overhead of testing was 0.035324 seconds.\n",
      "You can set `force_col_wise=true` to remove the overhead.\n",
      "[LightGBM] [Info] Total Bins 1727\n",
      "[LightGBM] [Info] Number of data points in the train set: 299103, number of used features: 13\n",
      "[LightGBM] [Info] Start training from score 0.191306\n"
     ]
    },
    {
     "name": "stderr",
     "output_type": "stream",
     "text": [
      "c:\\Users\\ADMIN\\MyProject\\School_Projects\\WeatherForecastML-DM\\.venv\\Lib\\site-packages\\sklearn\\utils\\validation.py:2739: UserWarning: X does not have valid feature names, but LGBMRegressor was fitted with feature names\n",
      "  warnings.warn(\n"
     ]
    },
    {
     "name": "stdout",
     "output_type": "stream",
     "text": [
      "[LightGBM] [Info] Auto-choosing col-wise multi-threading, the overhead of testing was 0.060858 seconds.\n",
      "You can set `force_col_wise=true` to remove the overhead.\n",
      "[LightGBM] [Info] Total Bins 1726\n",
      "[LightGBM] [Info] Number of data points in the train set: 398803, number of used features: 13\n",
      "[LightGBM] [Info] Start training from score 0.197875\n"
     ]
    },
    {
     "name": "stderr",
     "output_type": "stream",
     "text": [
      "c:\\Users\\ADMIN\\MyProject\\School_Projects\\WeatherForecastML-DM\\.venv\\Lib\\site-packages\\sklearn\\utils\\validation.py:2739: UserWarning: X does not have valid feature names, but LGBMRegressor was fitted with feature names\n",
      "  warnings.warn(\n"
     ]
    },
    {
     "name": "stdout",
     "output_type": "stream",
     "text": [
      "[LightGBM] [Info] Auto-choosing col-wise multi-threading, the overhead of testing was 0.107886 seconds.\n",
      "You can set `force_col_wise=true` to remove the overhead.\n",
      "[LightGBM] [Info] Total Bins 1731\n",
      "[LightGBM] [Info] Number of data points in the train set: 498503, number of used features: 13\n",
      "[LightGBM] [Info] Start training from score 0.200013\n"
     ]
    },
    {
     "name": "stderr",
     "output_type": "stream",
     "text": [
      "c:\\Users\\ADMIN\\MyProject\\School_Projects\\WeatherForecastML-DM\\.venv\\Lib\\site-packages\\sklearn\\utils\\validation.py:2739: UserWarning: X does not have valid feature names, but LGBMRegressor was fitted with feature names\n",
      "  warnings.warn(\n"
     ]
    },
    {
     "name": "stdout",
     "output_type": "stream",
     "text": [
      "[LightGBM] [Info] Auto-choosing col-wise multi-threading, the overhead of testing was 0.120014 seconds.\n",
      "You can set `force_col_wise=true` to remove the overhead.\n",
      "[LightGBM] [Info] Total Bins 1734\n",
      "[LightGBM] [Info] Number of data points in the train set: 598203, number of used features: 13\n",
      "[LightGBM] [Info] Start training from score 0.195874\n"
     ]
    },
    {
     "name": "stderr",
     "output_type": "stream",
     "text": [
      "c:\\Users\\ADMIN\\MyProject\\School_Projects\\WeatherForecastML-DM\\.venv\\Lib\\site-packages\\sklearn\\utils\\validation.py:2739: UserWarning: X does not have valid feature names, but LGBMRegressor was fitted with feature names\n",
      "  warnings.warn(\n",
      "c:\\Users\\ADMIN\\MyProject\\School_Projects\\WeatherForecastML-DM\\.venv\\Lib\\site-packages\\sklearn\\utils\\validation.py:2739: UserWarning: X does not have valid feature names, but LGBMRegressor was fitted with feature names\n",
      "  warnings.warn(\n"
     ]
    },
    {
     "name": "stdout",
     "output_type": "stream",
     "text": [
      "[RESULT] Light GBM Regressor - rain\n",
      "Cross-Validation Scores:\n",
      "  [CV RMSE]: 0.62 ± 0.03\n",
      "  [CV MAE]: 0.21 ± 0.01\n",
      "  [CV R2]: 0.30 ± 0.02\n",
      "\n",
      "Test Set Evaluation:\n",
      "  [MAE]: 0.27\n",
      "  [RMSE]: 0.81\n",
      "  [Train R2 Score]: 0.39\n",
      "  [Test R2 Score]: 0.23\n",
      "\n",
      "[VIF Scores]\n",
      "    feature_index       VIF\n",
      "1               1  3.491729\n",
      "2               2  2.952208\n",
      "3               3  2.694716\n",
      "0               0  2.655588\n",
      "9               9  2.574975\n",
      "8               8  2.533521\n",
      "10             10  2.142527\n",
      "6               6  2.019605\n",
      "7               7  1.777153\n",
      "12             12  1.766127\n",
      "4               4  1.320416\n",
      "5               5  1.237504\n",
      "11             11  1.094703\n",
      "[LightGBM] [Info] Auto-choosing row-wise multi-threading, the overhead of testing was 0.002454 seconds.\n",
      "You can set `force_row_wise=true` to remove the overhead.\n",
      "And if memory is not enough, you can set `force_col_wise=true`.\n",
      "[LightGBM] [Info] Total Bins 1711\n",
      "[LightGBM] [Info] Number of data points in the train set: 99703, number of used features: 12\n",
      "[LightGBM] [Info] Start training from score 158.317794\n"
     ]
    },
    {
     "name": "stderr",
     "output_type": "stream",
     "text": [
      "c:\\Users\\ADMIN\\MyProject\\School_Projects\\WeatherForecastML-DM\\.venv\\Lib\\site-packages\\sklearn\\utils\\validation.py:2739: UserWarning: X does not have valid feature names, but LGBMRegressor was fitted with feature names\n",
      "  warnings.warn(\n"
     ]
    },
    {
     "name": "stdout",
     "output_type": "stream",
     "text": [
      "[LightGBM] [Info] Auto-choosing row-wise multi-threading, the overhead of testing was 0.006599 seconds.\n",
      "You can set `force_row_wise=true` to remove the overhead.\n",
      "And if memory is not enough, you can set `force_col_wise=true`.\n",
      "[LightGBM] [Info] Total Bins 1722\n",
      "[LightGBM] [Info] Number of data points in the train set: 199403, number of used features: 12\n",
      "[LightGBM] [Info] Start training from score 157.650201\n"
     ]
    },
    {
     "name": "stderr",
     "output_type": "stream",
     "text": [
      "c:\\Users\\ADMIN\\MyProject\\School_Projects\\WeatherForecastML-DM\\.venv\\Lib\\site-packages\\sklearn\\utils\\validation.py:2739: UserWarning: X does not have valid feature names, but LGBMRegressor was fitted with feature names\n",
      "  warnings.warn(\n"
     ]
    },
    {
     "name": "stdout",
     "output_type": "stream",
     "text": [
      "[LightGBM] [Info] Auto-choosing row-wise multi-threading, the overhead of testing was 0.008664 seconds.\n",
      "You can set `force_row_wise=true` to remove the overhead.\n",
      "And if memory is not enough, you can set `force_col_wise=true`.\n",
      "[LightGBM] [Info] Total Bins 1727\n",
      "[LightGBM] [Info] Number of data points in the train set: 299103, number of used features: 13\n",
      "[LightGBM] [Info] Start training from score 156.636376\n"
     ]
    },
    {
     "name": "stderr",
     "output_type": "stream",
     "text": [
      "c:\\Users\\ADMIN\\MyProject\\School_Projects\\WeatherForecastML-DM\\.venv\\Lib\\site-packages\\sklearn\\utils\\validation.py:2739: UserWarning: X does not have valid feature names, but LGBMRegressor was fitted with feature names\n",
      "  warnings.warn(\n"
     ]
    },
    {
     "name": "stdout",
     "output_type": "stream",
     "text": [
      "[LightGBM] [Info] Auto-choosing col-wise multi-threading, the overhead of testing was 0.045120 seconds.\n",
      "You can set `force_col_wise=true` to remove the overhead.\n",
      "[LightGBM] [Info] Total Bins 1726\n",
      "[LightGBM] [Info] Number of data points in the train set: 398803, number of used features: 13\n",
      "[LightGBM] [Info] Start training from score 155.455498\n"
     ]
    },
    {
     "name": "stderr",
     "output_type": "stream",
     "text": [
      "c:\\Users\\ADMIN\\MyProject\\School_Projects\\WeatherForecastML-DM\\.venv\\Lib\\site-packages\\sklearn\\utils\\validation.py:2739: UserWarning: X does not have valid feature names, but LGBMRegressor was fitted with feature names\n",
      "  warnings.warn(\n"
     ]
    },
    {
     "name": "stdout",
     "output_type": "stream",
     "text": [
      "[LightGBM] [Info] Auto-choosing row-wise multi-threading, the overhead of testing was 0.019144 seconds.\n",
      "You can set `force_row_wise=true` to remove the overhead.\n",
      "And if memory is not enough, you can set `force_col_wise=true`.\n",
      "[LightGBM] [Info] Total Bins 1731\n",
      "[LightGBM] [Info] Number of data points in the train set: 498503, number of used features: 13\n",
      "[LightGBM] [Info] Start training from score 155.008824\n"
     ]
    },
    {
     "name": "stderr",
     "output_type": "stream",
     "text": [
      "c:\\Users\\ADMIN\\MyProject\\School_Projects\\WeatherForecastML-DM\\.venv\\Lib\\site-packages\\sklearn\\utils\\validation.py:2739: UserWarning: X does not have valid feature names, but LGBMRegressor was fitted with feature names\n",
      "  warnings.warn(\n"
     ]
    },
    {
     "name": "stdout",
     "output_type": "stream",
     "text": [
      "[LightGBM] [Info] Auto-choosing row-wise multi-threading, the overhead of testing was 0.003296 seconds.\n",
      "You can set `force_row_wise=true` to remove the overhead.\n",
      "And if memory is not enough, you can set `force_col_wise=true`.\n",
      "[LightGBM] [Info] Total Bins 1711\n",
      "[LightGBM] [Info] Number of data points in the train set: 99703, number of used features: 12\n",
      "[LightGBM] [Info] Start training from score 158.317794\n"
     ]
    },
    {
     "name": "stderr",
     "output_type": "stream",
     "text": [
      "c:\\Users\\ADMIN\\MyProject\\School_Projects\\WeatherForecastML-DM\\.venv\\Lib\\site-packages\\sklearn\\utils\\validation.py:2739: UserWarning: X does not have valid feature names, but LGBMRegressor was fitted with feature names\n",
      "  warnings.warn(\n"
     ]
    },
    {
     "name": "stdout",
     "output_type": "stream",
     "text": [
      "[LightGBM] [Info] Auto-choosing col-wise multi-threading, the overhead of testing was 0.028403 seconds.\n",
      "You can set `force_col_wise=true` to remove the overhead.\n",
      "[LightGBM] [Info] Total Bins 1722\n",
      "[LightGBM] [Info] Number of data points in the train set: 199403, number of used features: 12\n",
      "[LightGBM] [Info] Start training from score 157.650201\n"
     ]
    },
    {
     "name": "stderr",
     "output_type": "stream",
     "text": [
      "c:\\Users\\ADMIN\\MyProject\\School_Projects\\WeatherForecastML-DM\\.venv\\Lib\\site-packages\\sklearn\\utils\\validation.py:2739: UserWarning: X does not have valid feature names, but LGBMRegressor was fitted with feature names\n",
      "  warnings.warn(\n"
     ]
    },
    {
     "name": "stdout",
     "output_type": "stream",
     "text": [
      "[LightGBM] [Info] Auto-choosing row-wise multi-threading, the overhead of testing was 0.008312 seconds.\n",
      "You can set `force_row_wise=true` to remove the overhead.\n",
      "And if memory is not enough, you can set `force_col_wise=true`.\n",
      "[LightGBM] [Info] Total Bins 1727\n",
      "[LightGBM] [Info] Number of data points in the train set: 299103, number of used features: 13\n",
      "[LightGBM] [Info] Start training from score 156.636376\n"
     ]
    },
    {
     "name": "stderr",
     "output_type": "stream",
     "text": [
      "c:\\Users\\ADMIN\\MyProject\\School_Projects\\WeatherForecastML-DM\\.venv\\Lib\\site-packages\\sklearn\\utils\\validation.py:2739: UserWarning: X does not have valid feature names, but LGBMRegressor was fitted with feature names\n",
      "  warnings.warn(\n"
     ]
    },
    {
     "name": "stdout",
     "output_type": "stream",
     "text": [
      "[LightGBM] [Info] Auto-choosing col-wise multi-threading, the overhead of testing was 0.053438 seconds.\n",
      "You can set `force_col_wise=true` to remove the overhead.\n",
      "[LightGBM] [Info] Total Bins 1726\n",
      "[LightGBM] [Info] Number of data points in the train set: 398803, number of used features: 13\n",
      "[LightGBM] [Info] Start training from score 155.455498\n"
     ]
    },
    {
     "name": "stderr",
     "output_type": "stream",
     "text": [
      "c:\\Users\\ADMIN\\MyProject\\School_Projects\\WeatherForecastML-DM\\.venv\\Lib\\site-packages\\sklearn\\utils\\validation.py:2739: UserWarning: X does not have valid feature names, but LGBMRegressor was fitted with feature names\n",
      "  warnings.warn(\n"
     ]
    },
    {
     "name": "stdout",
     "output_type": "stream",
     "text": [
      "[LightGBM] [Info] Auto-choosing row-wise multi-threading, the overhead of testing was 0.018344 seconds.\n",
      "You can set `force_row_wise=true` to remove the overhead.\n",
      "And if memory is not enough, you can set `force_col_wise=true`.\n",
      "[LightGBM] [Info] Total Bins 1731\n",
      "[LightGBM] [Info] Number of data points in the train set: 498503, number of used features: 13\n",
      "[LightGBM] [Info] Start training from score 155.008824\n"
     ]
    },
    {
     "name": "stderr",
     "output_type": "stream",
     "text": [
      "c:\\Users\\ADMIN\\MyProject\\School_Projects\\WeatherForecastML-DM\\.venv\\Lib\\site-packages\\sklearn\\utils\\validation.py:2739: UserWarning: X does not have valid feature names, but LGBMRegressor was fitted with feature names\n",
      "  warnings.warn(\n"
     ]
    },
    {
     "name": "stdout",
     "output_type": "stream",
     "text": [
      "[LightGBM] [Info] Auto-choosing row-wise multi-threading, the overhead of testing was 0.002482 seconds.\n",
      "You can set `force_row_wise=true` to remove the overhead.\n",
      "And if memory is not enough, you can set `force_col_wise=true`.\n",
      "[LightGBM] [Info] Total Bins 1711\n",
      "[LightGBM] [Info] Number of data points in the train set: 99703, number of used features: 12\n",
      "[LightGBM] [Info] Start training from score 158.317794\n"
     ]
    },
    {
     "name": "stderr",
     "output_type": "stream",
     "text": [
      "c:\\Users\\ADMIN\\MyProject\\School_Projects\\WeatherForecastML-DM\\.venv\\Lib\\site-packages\\sklearn\\utils\\validation.py:2739: UserWarning: X does not have valid feature names, but LGBMRegressor was fitted with feature names\n",
      "  warnings.warn(\n"
     ]
    },
    {
     "name": "stdout",
     "output_type": "stream",
     "text": [
      "[LightGBM] [Info] Auto-choosing col-wise multi-threading, the overhead of testing was 0.028460 seconds.\n",
      "You can set `force_col_wise=true` to remove the overhead.\n",
      "[LightGBM] [Info] Total Bins 1722\n",
      "[LightGBM] [Info] Number of data points in the train set: 199403, number of used features: 12\n",
      "[LightGBM] [Info] Start training from score 157.650201\n"
     ]
    },
    {
     "name": "stderr",
     "output_type": "stream",
     "text": [
      "c:\\Users\\ADMIN\\MyProject\\School_Projects\\WeatherForecastML-DM\\.venv\\Lib\\site-packages\\sklearn\\utils\\validation.py:2739: UserWarning: X does not have valid feature names, but LGBMRegressor was fitted with feature names\n",
      "  warnings.warn(\n"
     ]
    },
    {
     "name": "stdout",
     "output_type": "stream",
     "text": [
      "[LightGBM] [Info] Auto-choosing row-wise multi-threading, the overhead of testing was 0.014036 seconds.\n",
      "You can set `force_row_wise=true` to remove the overhead.\n",
      "And if memory is not enough, you can set `force_col_wise=true`.\n",
      "[LightGBM] [Info] Total Bins 1727\n",
      "[LightGBM] [Info] Number of data points in the train set: 299103, number of used features: 13\n",
      "[LightGBM] [Info] Start training from score 156.636376\n"
     ]
    },
    {
     "name": "stderr",
     "output_type": "stream",
     "text": [
      "c:\\Users\\ADMIN\\MyProject\\School_Projects\\WeatherForecastML-DM\\.venv\\Lib\\site-packages\\sklearn\\utils\\validation.py:2739: UserWarning: X does not have valid feature names, but LGBMRegressor was fitted with feature names\n",
      "  warnings.warn(\n"
     ]
    },
    {
     "name": "stdout",
     "output_type": "stream",
     "text": [
      "[LightGBM] [Info] Auto-choosing row-wise multi-threading, the overhead of testing was 0.011279 seconds.\n",
      "You can set `force_row_wise=true` to remove the overhead.\n",
      "And if memory is not enough, you can set `force_col_wise=true`.\n",
      "[LightGBM] [Info] Total Bins 1726\n",
      "[LightGBM] [Info] Number of data points in the train set: 398803, number of used features: 13\n",
      "[LightGBM] [Info] Start training from score 155.455498\n"
     ]
    },
    {
     "name": "stderr",
     "output_type": "stream",
     "text": [
      "c:\\Users\\ADMIN\\MyProject\\School_Projects\\WeatherForecastML-DM\\.venv\\Lib\\site-packages\\sklearn\\utils\\validation.py:2739: UserWarning: X does not have valid feature names, but LGBMRegressor was fitted with feature names\n",
      "  warnings.warn(\n"
     ]
    },
    {
     "name": "stdout",
     "output_type": "stream",
     "text": [
      "[LightGBM] [Info] Auto-choosing col-wise multi-threading, the overhead of testing was 0.089628 seconds.\n",
      "You can set `force_col_wise=true` to remove the overhead.\n",
      "[LightGBM] [Info] Total Bins 1731\n",
      "[LightGBM] [Info] Number of data points in the train set: 498503, number of used features: 13\n",
      "[LightGBM] [Info] Start training from score 155.008824\n"
     ]
    },
    {
     "name": "stderr",
     "output_type": "stream",
     "text": [
      "c:\\Users\\ADMIN\\MyProject\\School_Projects\\WeatherForecastML-DM\\.venv\\Lib\\site-packages\\sklearn\\utils\\validation.py:2739: UserWarning: X does not have valid feature names, but LGBMRegressor was fitted with feature names\n",
      "  warnings.warn(\n"
     ]
    },
    {
     "name": "stdout",
     "output_type": "stream",
     "text": [
      "[LightGBM] [Info] Auto-choosing col-wise multi-threading, the overhead of testing was 0.075753 seconds.\n",
      "You can set `force_col_wise=true` to remove the overhead.\n",
      "[LightGBM] [Info] Total Bins 1734\n",
      "[LightGBM] [Info] Number of data points in the train set: 598203, number of used features: 13\n",
      "[LightGBM] [Info] Start training from score 155.219987\n"
     ]
    },
    {
     "name": "stderr",
     "output_type": "stream",
     "text": [
      "c:\\Users\\ADMIN\\MyProject\\School_Projects\\WeatherForecastML-DM\\.venv\\Lib\\site-packages\\sklearn\\utils\\validation.py:2739: UserWarning: X does not have valid feature names, but LGBMRegressor was fitted with feature names\n",
      "  warnings.warn(\n",
      "c:\\Users\\ADMIN\\MyProject\\School_Projects\\WeatherForecastML-DM\\.venv\\Lib\\site-packages\\sklearn\\utils\\validation.py:2739: UserWarning: X does not have valid feature names, but LGBMRegressor was fitted with feature names\n",
      "  warnings.warn(\n"
     ]
    },
    {
     "name": "stdout",
     "output_type": "stream",
     "text": [
      "[RESULT] Light GBM Regressor - shortwave_radiation\n",
      "Cross-Validation Scores:\n",
      "  [CV RMSE]: 76.25 ± 1.22\n",
      "  [CV MAE]: 45.68 ± 1.56\n",
      "  [CV R2]: 0.89 ± 0.00\n",
      "\n",
      "Test Set Evaluation:\n",
      "  [MAE]: 46.91\n",
      "  [RMSE]: 83.25\n",
      "  [Train R2 Score]: 0.90\n",
      "  [Test R2 Score]: 0.87\n",
      "\n",
      "[VIF Scores]\n",
      "    feature_index       VIF\n",
      "1               1  3.491729\n",
      "2               2  2.952208\n",
      "3               3  2.694716\n",
      "0               0  2.655588\n",
      "9               9  2.574975\n",
      "8               8  2.533521\n",
      "10             10  2.142527\n",
      "6               6  2.019605\n",
      "7               7  1.777153\n",
      "12             12  1.766127\n",
      "4               4  1.320416\n",
      "5               5  1.237504\n",
      "11             11  1.094703\n"
     ]
    }
   ],
   "source": [
    "METHOD = \"SingleOutput\"\n",
    "\n",
    "# Define multiple scorings\n",
    "cv_scorings = {\n",
    "    \"CV RMSE\": \"neg_root_mean_squared_error\",\n",
    "    \"CV MAE\": \"neg_mean_absolute_error\",\n",
    "    \"CV R2\": \"r2\"\n",
    "}\n",
    "\n",
    "target_variables = [\n",
    "    \"temperature_2m\",\n",
    "    \"apparent_temperature\",\n",
    "    \"relative_humidity_2m\",\n",
    "    \"wind_speed_10m\",\n",
    "    \"wind_direction_10m_sin\",\n",
    "    \"wind_direction_10m_cos\",\n",
    "    \"rain\",\n",
    "    \"shortwave_radiation\"\n",
    "]\n",
    "\n",
    "for target_variable in target_variables:\n",
    "    data = load_preprocessed_data(method=METHOD, target_variable=target_variable)\n",
    "\n",
    "    X_train = data[\"X_train\"]\n",
    "    X_test = data[\"X_test\"]\n",
    "    y_train = data[\"y_train\"]\n",
    "    y_test = data[\"y_test\"]\n",
    "    preprocessor = data[\"preprocessor\"]\n",
    "\n",
    "    # Pipeline cho lgbmr\n",
    "    lgbmr_pipeline = Pipeline([\n",
    "        (\"preprocessor\", preprocessor),\n",
    "        (\"model\", LGBMRegressor(objective=\"regression\", n_estimators=100, random_state=42))\n",
    "    ])\n",
    "\n",
    "    tscv = TimeSeriesSplit(n_splits=5)\n",
    "\n",
    "    # Dictionary to store CV results\n",
    "    cv_results = {}\n",
    "\n",
    "    for name, scoring in cv_scorings.items():\n",
    "        scores = cross_val_score(\n",
    "            lgbmr_pipeline, X_train, y_train,\n",
    "            cv=tscv, scoring=scoring\n",
    "        )\n",
    "        mean_score = -np.mean(scores) if \"neg_\" in scoring else np.mean(scores)\n",
    "        std_score = np.std(scores)\n",
    "        cv_results[name] = (mean_score, std_score)\n",
    "\n",
    "    # Train and evaluate on test set\n",
    "    MODEL_PATH = MODELS / \"LightGBMRegressor\"\n",
    "    if not MODEL_PATH.exists():\n",
    "        MODEL_PATH.mkdir(parents=True, exist_ok=True)\n",
    "    MODEL_TARGET_PATH = MODEL_PATH / f\"LGBMR_{target_variable}.pkl\"\n",
    "    if MODEL_TARGET_PATH.exists():\n",
    "        lgbmr_pipeline = joblib.load(MODEL_TARGET_PATH)\n",
    "    else:\n",
    "        # Train and evaluate on test set\n",
    "        lgbmr_pipeline.fit(X_train, y_train)\n",
    "        joblib.dump(lgbmr_pipeline, MODEL_TARGET_PATH)\n",
    "    \n",
    "    y_pred_lgbmr = lgbmr_pipeline.predict(X_test)\n",
    "\n",
    "    mae_lgbmr = mean_absolute_error(y_test, y_pred_lgbmr)\n",
    "    rmse_lgbmr = np.sqrt(mean_squared_error(y_test, y_pred_lgbmr))\n",
    "    r2_lgbmr = r2_score(y_test, y_pred_lgbmr)\n",
    "\n",
    "    y_train_pred = lgbmr_pipeline.predict(X_train)\n",
    "    r2_train = r2_score(y_train, y_train_pred)\n",
    "\n",
    "    # Transform X_train via preprocessor to calculate VIF\n",
    "    X_train_transformed = preprocessor.fit_transform(X_train)\n",
    "    if hasattr(X_train_transformed, \"toarray\"):\n",
    "        X_train_transformed = X_train_transformed.toarray()\n",
    "\n",
    "    X_vif = pd.DataFrame(X_train_transformed)\n",
    "    vif_data = pd.DataFrame()\n",
    "    vif_data[\"feature_index\"] = range(X_vif.shape[1])\n",
    "    vif_data[\"VIF\"] = [variance_inflation_factor(X_vif.values, i) for i in range(X_vif.shape[1])]\n",
    "\n",
    "    # === Print results ===\n",
    "    print(f\"[RESULT] Light GBM Regressor - {target_variable}\")\n",
    "    print(\"Cross-Validation Scores:\")\n",
    "    for name, (mean_score, std_score) in cv_results.items():\n",
    "        print(f\"  [{name}]: {mean_score:.2f} ± {std_score:.2f}\")\n",
    "    print(\"\\nTest Set Evaluation:\")\n",
    "    print(f\"  [MAE]: {mae_lgbmr:.2f}\")\n",
    "    print(f\"  [RMSE]: {rmse_lgbmr:.2f}\")\n",
    "    print(f\"  [Train R2 Score]: {r2_train:.2f}\")\n",
    "    print(f\"  [Test R2 Score]: {r2_lgbmr:.2f}\")\n",
    "    print(\"\\n[VIF Scores]\")\n",
    "    print(vif_data.sort_values(\"VIF\", ascending=False).head(20))\n",
    "\n",
    "    # === Save results ===\n",
    "    PATH = DATA / \"scores&predictions\" / METHOD / target_variable\n",
    "    save_model_scores(\n",
    "        \"LightGBMRegressor\",\n",
    "        PATH,\n",
    "        mae_lgbmr,\n",
    "        rmse_lgbmr,\n",
    "        r2_lgbmr,\n",
    "        cv_results[\"CV RMSE\"][0],  # mean RMSE\n",
    "        cv_results[\"CV RMSE\"][1],  # std RMSE\n",
    "        cv_results[\"CV MAE\"][0],  # mean MAE\n",
    "        cv_results[\"CV MAE\"][1],  # std MAE\n",
    "        cv_results[\"CV R2\"][0],  # mean R2\n",
    "        cv_results[\"CV R2\"][1],  # std R2\n",
    "    )\n",
    "    save_model_predictions(\"LightGBMRegressor\", y_test, y_pred_lgbmr, PATH)\n"
   ]
  },
  {
   "cell_type": "code",
   "execution_count": 4,
   "id": "a54afe06",
   "metadata": {},
   "outputs": [
    {
     "data": {
      "image/png": "[encoded data removed]",
      "text/plain": [
       "<Figure size 1400x600 with 1 Axes>"
      ]
     },
     "metadata": {},
     "output_type": "display_data"
    }
   ],
   "source": [
    "# Đọc dữ liệu và chuyển đổi cột date\n",
    "test_df = pd.read_csv(f\"{TRAINED_DATA}/{METHOD}/temperature_2m/test_df.csv\", parse_dates=[\"date\"])\n",
    "model_predictions = pd.read_csv(f\"{DATA}/scores&predictions/{METHOD}/temperature_2m/model_predictions.csv\")\n",
    "\n",
    "# Kiểm tra điều kiện: actual == temperature_2m_max\n",
    "matching = model_predictions[\"actual\"].values == test_df[\"temperature_2m\"].values\n",
    "\n",
    "# Gán cột 'date' từ test_df nếu giá trị actual khớp\n",
    "model_predictions[\"date\"] = np.where(\n",
    "    matching,\n",
    "    test_df[\"date\"].values,  # nếu khớp, lấy ngày\n",
    "    pd.NaT                   # nếu không khớp, để giá trị thời gian trống\n",
    ")\n",
    "model_predictions[\"date\"] = pd.to_datetime(model_predictions[\"date\"], errors=\"coerce\")\n",
    "\n",
    "# Lọc khoảng thời gian từ 01/01/2016 đến 31/12/2016\n",
    "mask = (model_predictions[\"date\"] >= \"2016-06-01\") & (model_predictions[\"date\"] <= \"2016-06-08\")\n",
    "subset_df = model_predictions[mask]\n",
    "\n",
    "# Vẽ biểu đồ\n",
    "plt.figure(figsize=(14, 6))\n",
    "plt.plot(subset_df[\"date\"], subset_df[\"actual\"], label=\"Actual\", color=\"blue\")\n",
    "plt.plot(subset_df[\"date\"], subset_df[\"LightGBMRegressor_pred\"], label=\"Predicted\", color=\"orange\", alpha=0.8)\n",
    "plt.title(\"Actual vs Predicted Temperature (Light GBM Regressor) - June 2016\")\n",
    "plt.xlabel(\"Date\")\n",
    "plt.ylabel(\"Temperature (°C)\")\n",
    "plt.legend()\n",
    "plt.tight_layout()\n",
    "plt.grid(True)\n",
    "plt.show()\n"
   ]
  },
  {
   "cell_type": "code",
   "execution_count": 5,
   "id": "c547dc19",
   "metadata": {},
   "outputs": [
    {
     "name": "stdout",
     "output_type": "stream",
     "text": [
      "[MAE]: 0.20 rad ~ 11.34°\n",
      "[RMSE]: 0.76 rad ~ 43.43°\n",
      "[R2]: 0.76\n"
     ]
    },
    {
     "data": {
      "image/png": "[encoded data removed]",
      "text/plain": [
       "<Figure size 800x800 with 1 Axes>"
      ]
     },
     "metadata": {},
     "output_type": "display_data"
    }
   ],
   "source": [
    "fig, ax = plt.subplots(figsize=(8, 8), subplot_kw={'projection': 'polar'})\n",
    "\n",
    "test_df_sin = pd.read_csv(f\"{TRAINED_DATA}/{METHOD}/wind_direction_10m_sin/test_df.csv\", parse_dates=[\"date\"])\n",
    "model_predictions_sin = pd.read_csv(f\"{DATA}/scores&predictions/{METHOD}/wind_direction_10m_sin/model_predictions.csv\")\n",
    "\n",
    "matching = model_predictions_sin[\"actual\"].values == test_df_sin[\"wind_direction_10m_sin\"].values\n",
    "\n",
    "# Gán cột 'date' từ test_df nếu giá trị actual khớp\n",
    "model_predictions_sin[\"date\"] = np.where(\n",
    "    matching,\n",
    "    test_df_sin[\"date\"].values,  # nếu khớp, lấy ngày\n",
    "    pd.NaT                   # nếu không khớp, để giá trị thời gian trống\n",
    ")\n",
    "model_predictions_sin[\"date\"] = pd.to_datetime(model_predictions_sin[\"date\"], errors=\"coerce\")\n",
    "\n",
    "test_df_cos = pd.read_csv(f\"{TRAINED_DATA}/{METHOD}/wind_direction_10m_cos/test_df.csv\", parse_dates=[\"date\"])\n",
    "model_predictions_cos = pd.read_csv(f\"{DATA}/scores&predictions/{METHOD}/wind_direction_10m_cos/model_predictions.csv\")\n",
    "\n",
    "matching = model_predictions_cos[\"actual\"].values == test_df_cos[\"wind_direction_10m_sin\"].values\n",
    "\n",
    "# Gán cột 'date' từ test_df nếu giá trị actual khớp\n",
    "model_predictions_cos[\"date\"] = np.where(\n",
    "    matching,\n",
    "    test_df_cos[\"date\"].values,  # nếu khớp, lấy ngày\n",
    "    pd.NaT                   # nếu không khớp, để giá trị thời gian trống\n",
    ")\n",
    "model_predictions_cos[\"date\"] = pd.to_datetime(model_predictions_cos[\"date\"], errors=\"coerce\")\n",
    "\n",
    "# Chuyển hướng gió sang radian\n",
    "theta_actual = np.arctan2(model_predictions_sin[\"actual\"], model_predictions_cos[\"actual\"])\n",
    "theta_pred = np.arctan2(model_predictions_sin[\"LightGBMRegressor_pred\"],\n",
    "                        model_predictions_cos[\"LightGBMRegressor_pred\"])\n",
    "\n",
    "mae_wind_direction_10m = mean_absolute_error(theta_actual, theta_pred)\n",
    "rmse_wind_direction_10m = np.sqrt(mean_squared_error(theta_actual, theta_pred))\n",
    "r2_wind_direction_10m = r2_score(theta_actual, theta_pred)\n",
    "\n",
    "print(f\"[MAE]: {mae_wind_direction_10m:.2f} rad ~ {mae_wind_direction_10m * 180 / np.pi:.2f}°\")\n",
    "print(f\"[RMSE]: {rmse_wind_direction_10m:.2f} rad ~ {rmse_wind_direction_10m * 180 / np.pi:.2f}°\")\n",
    "print(f\"[R2]: {r2_wind_direction_10m:.2f}\")\n",
    "\n",
    "mask = (model_predictions_sin[\"date\"] >= \"2016-06-01\") & (model_predictions_sin[\"date\"] <= \"2016-06-08\")\n",
    "theta_actual = theta_actual[mask]\n",
    "theta_pred = theta_pred[mask]\n",
    "# Dùng bán kính là chỉ số thời gian hoặc ngẫu nhiên để dễ nhìn\n",
    "r = np.linspace(0, 1, len(theta_actual))\n",
    "\n",
    "# Vẽ scatter\n",
    "plt.scatter(theta_actual, r, c='blue', s=10, label=\"Actual\", alpha=0.7)\n",
    "plt.scatter(theta_pred, r, c='orange', s=10, label=\"Predicted\", alpha=0.7, marker='x')\n",
    "\n",
    "ax.set_theta_zero_location(\"N\")\n",
    "ax.set_theta_direction(-1)\n",
    "plt.title(\"Wind Direction Scatter Plot - Actual vs Predicted - 2016 - Light GBM Regressor\")\n",
    "plt.legend(loc='upper right')\n",
    "plt.grid(True)\n",
    "plt.show()"
   ]
  },
  {
   "cell_type": "code",
   "execution_count": 6,
   "id": "b23389bd",
   "metadata": {},
   "outputs": [
    {
     "data": {
      "image/png": "[encoded data removed]",
      "text/plain": [
       "<Figure size 800x800 with 1 Axes>"
      ]
     },
     "metadata": {},
     "output_type": "display_data"
    }
   ],
   "source": [
    "fig, ax = plt.subplots(figsize=(8, 8), subplot_kw={'projection': 'polar'})\n",
    "\n",
    "test_df_sin = pd.read_csv(f\"{TRAINED_DATA}/{METHOD}/wind_direction_10m_sin/test_df.csv\", parse_dates=[\"date\"])\n",
    "model_predictions_sin = pd.read_csv(f\"{DATA}/scores&predictions/{METHOD}/wind_direction_10m_sin/model_predictions.csv\")\n",
    "\n",
    "matching = model_predictions_sin[\"actual\"].values == test_df_sin[\"wind_direction_10m_sin\"].values\n",
    "\n",
    "# Gán cột 'date' từ test_df nếu giá trị actual khớp\n",
    "model_predictions_sin[\"date\"] = np.where(\n",
    "    matching,\n",
    "    test_df_sin[\"date\"].values,  # nếu khớp, lấy ngày\n",
    "    pd.NaT                   # nếu không khớp, để giá trị thời gian trống\n",
    ")\n",
    "model_predictions_sin[\"date\"] = pd.to_datetime(model_predictions_sin[\"date\"], errors=\"coerce\")\n",
    "\n",
    "test_df_cos = pd.read_csv(f\"{TRAINED_DATA}/{METHOD}/wind_direction_10m_cos/test_df.csv\", parse_dates=[\"date\"])\n",
    "model_predictions_cos = pd.read_csv(f\"{DATA}/scores&predictions/{METHOD}/wind_direction_10m_cos/model_predictions.csv\")\n",
    "\n",
    "matching = model_predictions_cos[\"actual\"].values == test_df_cos[\"wind_direction_10m_sin\"].values\n",
    "\n",
    "# Gán cột 'date' từ test_df nếu giá trị actual khớp\n",
    "model_predictions_cos[\"date\"] = np.where(\n",
    "    matching,\n",
    "    test_df_cos[\"date\"].values,  # nếu khớp, lấy ngày\n",
    "    pd.NaT                   # nếu không khớp, để giá trị thời gian trống\n",
    ")\n",
    "model_predictions_cos[\"date\"] = pd.to_datetime(model_predictions_cos[\"date\"], errors=\"coerce\")\n",
    "\n",
    "# Chuyển hướng gió sang radian\n",
    "theta_actual = np.arctan2(model_predictions_sin[\"actual\"], model_predictions_cos[\"actual\"])\n",
    "theta_pred = np.arctan2(model_predictions_sin[\"LightGBMRegressor_pred\"],\n",
    "                        model_predictions_cos[\"LightGBMRegressor_pred\"])\n",
    "\n",
    "mask = (model_predictions_sin[\"date\"] >= \"2016-06-05\") & (model_predictions_sin[\"date\"] <= \"2016-06-08\")\n",
    "theta_actual = theta_actual[mask]\n",
    "theta_pred = theta_pred[mask]\n",
    "# Dùng bán kính là chỉ số thời gian hoặc ngẫu nhiên để dễ nhìn\n",
    "r = np.linspace(0, 1, len(theta_actual))\n",
    "\n",
    "for actual, pred, radius in zip(theta_actual, theta_pred, r):\n",
    "    ax.annotate(\n",
    "        '',\n",
    "        xy=(pred, radius),          # Điểm kết thúc (predicted)\n",
    "        xytext=(actual, radius),    # Điểm bắt đầu (actual)\n",
    "        arrowprops=dict(\n",
    "            arrowstyle='->', \n",
    "            color='red',\n",
    "            alpha=0.3,\n",
    "            lw=1.5\n",
    "        )\n",
    "    )\n",
    "\n",
    "# Vẽ scatter\n",
    "plt.scatter(theta_actual, r, c='blue', s=10, label=\"Actual\", alpha=0.7)\n",
    "plt.scatter(theta_pred, r, c='orange', s=10, label=\"Predicted\", alpha=0.7, marker='x')\n",
    "\n",
    "ax.set_theta_zero_location(\"N\")\n",
    "ax.set_theta_direction(-1)\n",
    "plt.title(\"Wind Direction Scatter Plot - Actual vs Predicted - 2016 - Light GBM Regressor\")\n",
    "plt.legend(loc='upper right')\n",
    "plt.grid(True)\n",
    "plt.show()"
   ]
  }
 ],
 "metadata": {
  "kernelspec": {
   "display_name": ".venv",
   "language": "python",
   "name": "python3"
  },
  "language_info": {
   "codemirror_mode": {
    "name": "ipython",
    "version": 3
   },
   "file_extension": ".py",
   "mimetype": "text/x-python",
   "name": "python",
   "nbconvert_exporter": "python",
   "pygments_lexer": "ipython3",
   "version": "3.13.3"
  }
 },
 "nbformat": 4,
 "nbformat_minor": 5
}
