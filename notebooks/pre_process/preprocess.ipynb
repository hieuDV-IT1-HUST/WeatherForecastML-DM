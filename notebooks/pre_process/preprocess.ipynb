{
 "cells": [
  {
   "cell_type": "code",
   "execution_count": 39,
   "id": "f8908eab",
   "metadata": {},
   "outputs": [
    {
     "name": "stdout",
     "output_type": "stream",
     "text": [
      "[INFO] Current working directory: c:\\Users\\ADMIN\\MyProject\\School_Projects\\WeatherForecastML-DM\\notebooks\n",
      "[INFO] Data loaded: (747768, 50)\n"
     ]
    }
   ],
   "source": [
    "# Pre-processing\n",
    "import pandas as pd\n",
    "import matplotlib.pyplot as plt\n",
    "import seaborn as sns\n",
    "from pathlib import Path\n",
    "\n",
    "import os\n",
    "print(\"[INFO] Current working directory:\", os.getcwd())\n",
    "# Display configuration\n",
    "sns.set_theme(style=\"whitegrid\")\n",
    "plt.rcParams['figure.figsize'] = (14, 6)\n",
    "\n",
    "# Read data\n",
    "file_path = Path(\"../data/processed/full_hourly_weather.csv\")\n",
    "df = pd.read_csv(file_path, parse_dates=[\"date\"])\n",
    "print(\"[INFO] Data loaded:\", df.shape)"
   ]
  },
  {
   "cell_type": "code",
   "execution_count": 40,
   "id": "81e82b12",
   "metadata": {},
   "outputs": [],
   "source": [
    "df = df.iloc[14:].copy()  # Xoá 14 dòng đầu\n"
   ]
  },
  {
   "cell_type": "code",
   "execution_count": null,
   "id": "d8c5ec36",
   "metadata": {},
   "outputs": [],
   "source": [
    "# Xoá cột không có dữ liệu\n",
    "drop_cols = [\"albedo\", \"snow_depth_water_equivalent\"]\n",
    "df.drop(columns=drop_cols, inplace=True)\n"
   ]
  },
  {
   "cell_type": "code",
   "execution_count": 42,
   "id": "da3015e6",
   "metadata": {},
   "outputs": [],
   "source": [
    "# maybe_drop = [\"snow_depth\"] # missing_count: 88273\n",
    "# df.drop(columns=maybe_drop, inplace=True)"
   ]
  },
  {
   "cell_type": "code",
   "execution_count": 43,
   "id": "e21d6135",
   "metadata": {},
   "outputs": [],
   "source": [
    "# maybe_drop = [\"boundary_layer_height\", \"total_column_integrated_water_vapour\"] # missing_count: 4375\n",
    "# df.drop(columns=maybe_drop, inplace=True)"
   ]
  },
  {
   "cell_type": "code",
   "execution_count": 44,
   "id": "fc4421c0",
   "metadata": {},
   "outputs": [
    {
     "name": "stdout",
     "output_type": "stream",
     "text": [
      "\n",
      "[INFO] Missing values:\n",
      "                                      missing_count  missing_%\n",
      "snow_depth                                    88259      11.80\n",
      "boundary_layer_height                          4368       0.58\n",
      "total_column_integrated_water_vapour           4368       0.58\n"
     ]
    }
   ],
   "source": [
    "# Checking missing value\n",
    "missing = df.isnull().sum()\n",
    "missing_percent = (missing / len(df) * 100).round(2)\n",
    "missing_df = pd.DataFrame({\n",
    "    \"missing_count\": missing,\n",
    "    \"missing_%\": missing_percent\n",
    "})\n",
    "missing_df = missing_df[missing_df[\"missing_count\"] > 0].sort_values(by=\"missing_count\", ascending=False)\n",
    "print(\"\\n[INFO] Missing values:\")\n",
    "print(missing_df)"
   ]
  },
  {
   "cell_type": "code",
   "execution_count": null,
   "id": "79ca72d7",
   "metadata": {},
   "outputs": [
    {
     "name": "stdout",
     "output_type": "stream",
     "text": [
      "[INFO] Số dòng còn thiếu:  0\n"
     ]
    }
   ],
   "source": [
    "# Điền phần thiếu nhỏ bằng nội suy tuyến tính hoặc giá trị gần nhất\n",
    "df.set_index(\"date\", inplace=True)\n",
    "df.interpolate(method=\"time\", limit_direction=\"both\", inplace=True)\n",
    "df.ffill(inplace=True)\n",
    "df.bfill(inplace=True)\n",
    "print(\"[INFO] Số dòng còn thiếu: \", df.isnull().sum().sum())\n"
   ]
  },
  {
   "cell_type": "code",
   "execution_count": 46,
   "id": "030ef366",
   "metadata": {},
   "outputs": [
    {
     "name": "stdout",
     "output_type": "stream",
     "text": [
      "[INFO] Copy saved to: C:\\Users\\ADMIN\\MyProject\\School_Projects\\WeatherForecastML-DM\\data\\processed\\clean_hourly_weather.csv\n"
     ]
    }
   ],
   "source": [
    "# Save a copy to a new file for cleaning\n",
    "output_path = Path(\"../data/processed/clean_hourly_weather.csv\")\n",
    "df.reset_index().to_csv(output_path, index=False)\n",
    "print(f\"[INFO] Copy saved to: {output_path.resolve()}\")"
   ]
  }
 ],
 "metadata": {
  "kernelspec": {
   "display_name": ".venv",
   "language": "python",
   "name": "python3"
  },
  "language_info": {
   "codemirror_mode": {
    "name": "ipython",
    "version": 3
   },
   "file_extension": ".py",
   "mimetype": "text/x-python",
   "name": "python",
   "nbconvert_exporter": "python",
   "pygments_lexer": "ipython3",
   "version": "3.13.3"
  }
 },
 "nbformat": 4,
 "nbformat_minor": 5
}
