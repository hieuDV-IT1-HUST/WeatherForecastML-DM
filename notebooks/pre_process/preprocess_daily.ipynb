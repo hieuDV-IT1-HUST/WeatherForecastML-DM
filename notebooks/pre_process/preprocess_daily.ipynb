{
 "cells": [
  {
   "cell_type": "code",
   "execution_count": 13,
   "id": "d34e8c53",
   "metadata": {},
   "outputs": [
    {
     "name": "stdout",
     "output_type": "stream",
     "text": [
      "[INFO] Current working directory: c:\\Users\\ADMIN\\MyProject\\School_Projects\\WeatherForecastML-DM\\notebooks\\pre_process\n",
      "[INFO] Data loaded: (14976, 67)\n"
     ]
    }
   ],
   "source": [
    "# Pre-processing\n",
    "import pandas as pd\n",
    "import matplotlib.pyplot as plt\n",
    "import seaborn as sns\n",
    "from pathlib import Path\n",
    "\n",
    "import os\n",
    "print(\"[INFO] Current working directory:\", os.getcwd())\n",
    "# Display configuration\n",
    "sns.set_theme(style=\"whitegrid\")\n",
    "plt.rcParams['figure.figsize'] = (14, 6)\n",
    "\n",
    "# Read data\n",
    "file_path = Path(\"../../data/raw/openmeteo_historical_daily.csv\")\n",
    "df = pd.read_csv(file_path, parse_dates=[\"date\"])\n",
    "print(\"[INFO] Data loaded:\", df.shape)"
   ]
  },
  {
   "cell_type": "code",
   "execution_count": 14,
   "id": "fdecdbef",
   "metadata": {},
   "outputs": [],
   "source": [
    "# Xoá cột không có dữ liệu\n",
    "drop_cols = [\"cape_mean\", \"cape_max\", \"cape_min\",\n",
    "             \"precipitation_probability_min\", \"precipitation_probability_mean\",\n",
    "             \"updraft_max\", \"visibility_mean\", \"visibility_min\",\n",
    "             \"visibility_max\", \"soil_moisture_0_to_10cm_mean\"]\n",
    "df.drop(columns=drop_cols, inplace=True)\n"
   ]
  },
  {
   "cell_type": "code",
   "execution_count": 15,
   "id": "8cd4d699",
   "metadata": {},
   "outputs": [
    {
     "name": "stdout",
     "output_type": "stream",
     "text": [
      "\n",
      "[INFO] Missing values:\n",
      "Empty DataFrame\n",
      "Columns: [missing_count, missing_%]\n",
      "Index: []\n"
     ]
    }
   ],
   "source": [
    "# Checking missing value\n",
    "missing = df.isnull().sum()\n",
    "missing_percent = (missing / len(df) * 100).round(2)\n",
    "missing_df = pd.DataFrame({\n",
    "    \"missing_count\": missing,\n",
    "    \"missing_%\": missing_percent\n",
    "})\n",
    "missing_df = missing_df[missing_df[\"missing_count\"] > 0].sort_values(by=\"missing_count\", ascending=False)\n",
    "print(\"\\n[INFO] Missing values:\")\n",
    "print(missing_df)"
   ]
  },
  {
   "cell_type": "code",
   "execution_count": 16,
   "id": "748eeb69",
   "metadata": {},
   "outputs": [
    {
     "name": "stdout",
     "output_type": "stream",
     "text": [
      "[INFO] Số dòng còn thiếu:  0\n"
     ]
    }
   ],
   "source": [
    "print(\"[INFO] Số dòng còn thiếu: \", df.isnull().sum().sum())\n"
   ]
  },
  {
   "cell_type": "code",
   "execution_count": 17,
   "id": "d680910d",
   "metadata": {},
   "outputs": [],
   "source": [
    "drop_cols = [\"weather_code\", \"sunset\", \"sunrise\"]\n",
    "df.drop(columns=drop_cols, inplace=True)"
   ]
  },
  {
   "cell_type": "code",
   "execution_count": 18,
   "id": "be2965f7",
   "metadata": {},
   "outputs": [],
   "source": [
    "df[\"date\"] = pd.to_datetime(df[\"date\"])\n"
   ]
  },
  {
   "cell_type": "code",
   "execution_count": 19,
   "id": "842b5027",
   "metadata": {},
   "outputs": [],
   "source": [
    "df[\"month\"] = df[\"date\"].dt.month\n"
   ]
  },
  {
   "cell_type": "code",
   "execution_count": 20,
   "id": "626a041f",
   "metadata": {},
   "outputs": [],
   "source": [
    "def month_to_season(month):\n",
    "    if month in [12, 1, 2]:\n",
    "        return 4 # Winter\n",
    "    elif month in [3, 4, 5]:\n",
    "        return 1 # Spring\n",
    "    elif month in [6, 7, 8]:\n",
    "        return 2 # Summer\n",
    "    elif month in [9, 10, 11]:\n",
    "        return 3 # Autumn\n",
    "\n",
    "df[\"season\"] = df[\"month\"].apply(month_to_season)\n"
   ]
  },
  {
   "cell_type": "code",
   "execution_count": 21,
   "id": "d54c2c0d",
   "metadata": {},
   "outputs": [],
   "source": [
    "df.drop(columns=\"month\", inplace=True)\n"
   ]
  },
  {
   "cell_type": "code",
   "execution_count": 22,
   "id": "36d97fdb",
   "metadata": {},
   "outputs": [],
   "source": [
    "import numpy as np\n",
    "\n",
    "\n",
    "df['season_sin'] = np.sin(2 * np.pi * df['season'] / 4)\n",
    "df['season_cos'] = np.cos(2 * np.pi * df['season'] / 4)\n",
    "df = df.drop('season', axis=1)"
   ]
  },
  {
   "cell_type": "code",
   "execution_count": 23,
   "id": "7410c4eb",
   "metadata": {},
   "outputs": [],
   "source": [
    "# Đưa cột season về vị trí sau date\n",
    "cols = df.columns.tolist()\n",
    "cols.insert(1, cols.pop(cols.index(\"season_sin\")))\n",
    "cols.insert(2, cols.pop(cols.index(\"season_cos\")))\n",
    "df = df[cols]\n"
   ]
  },
  {
   "cell_type": "code",
   "execution_count": 24,
   "id": "38f57059",
   "metadata": {},
   "outputs": [
    {
     "name": "stdout",
     "output_type": "stream",
     "text": [
      "[INFO] Copy saved to: C:\\Users\\ADMIN\\MyProject\\School_Projects\\WeatherForecastML-DM\\data\\processed\\clean_daily_weather.csv\n"
     ]
    }
   ],
   "source": [
    "# Save a copy to a new file for cleaning\n",
    "output_path = Path(\"../../data/processed/clean_daily_weather.csv\")\n",
    "df.to_csv(output_path, index=False)\n",
    "print(f\"[INFO] Copy saved to: {output_path.resolve()}\")"
   ]
  }
 ],
 "metadata": {
  "kernelspec": {
   "display_name": ".venv",
   "language": "python",
   "name": "python3"
  },
  "language_info": {
   "codemirror_mode": {
    "name": "ipython",
    "version": 3
   },
   "file_extension": ".py",
   "mimetype": "text/x-python",
   "name": "python",
   "nbconvert_exporter": "python",
   "pygments_lexer": "ipython3",
   "version": "3.13.3"
  }
 },
 "nbformat": 4,
 "nbformat_minor": 5
}
