{
 "cells": [
  {
   "cell_type": "code",
   "execution_count": 17,
   "id": "d8cd22f4",
   "metadata": {},
   "outputs": [],
   "source": [
    "import numpy as np\n",
    "import pandas as pd\n",
    "import matplotlib.pyplot as plt\n",
    "import seaborn as sns\n",
    "from pathlib import Path\n",
    "\n",
    "import os"
   ]
  },
  {
   "cell_type": "code",
   "execution_count": 18,
   "id": "f8908eab",
   "metadata": {},
   "outputs": [
    {
     "name": "stdout",
     "output_type": "stream",
     "text": [
      "[INFO] Current working directory: c:\\Users\\ADMIN\\MyProject\\School_Projects\\WeatherForecastML-DM\\notebooks\\pre_process\n",
      "[INFO] Data loaded: (747768, 50)\n"
     ]
    }
   ],
   "source": [
    "# Pre-processing\n",
    "print(\"[INFO] Current working directory:\", os.getcwd())\n",
    "# Display configuration\n",
    "sns.set_theme(style=\"whitegrid\")\n",
    "plt.rcParams['figure.figsize'] = (14, 6)\n",
    "\n",
    "# Read data\n",
    "file_path = Path(\"../../data/processed/full_hourly_weather.csv\")\n",
    "df = pd.read_csv(file_path, parse_dates=[\"date\"])\n",
    "print(\"[INFO] Data loaded:\", df.shape)"
   ]
  },
  {
   "cell_type": "code",
   "execution_count": 19,
   "id": "81e82b12",
   "metadata": {},
   "outputs": [],
   "source": [
    "df = df.iloc[14:].copy()  # Xoá 14 dòng đầu\n"
   ]
  },
  {
   "cell_type": "code",
   "execution_count": 20,
   "id": "d8c5ec36",
   "metadata": {},
   "outputs": [],
   "source": [
    "# Xoá cột không có dữ liệu\n",
    "drop_cols = [\"albedo\", \"snow_depth_water_equivalent\"]\n",
    "df.drop(columns=drop_cols, inplace=True)\n"
   ]
  },
  {
   "cell_type": "code",
   "execution_count": 42,
   "id": "da3015e6",
   "metadata": {},
   "outputs": [],
   "source": [
    "# maybe_drop = [\"snow_depth\"] # missing_count: 88273\n",
    "# df.drop(columns=maybe_drop, inplace=True)"
   ]
  },
  {
   "cell_type": "code",
   "execution_count": 43,
   "id": "e21d6135",
   "metadata": {},
   "outputs": [],
   "source": [
    "# maybe_drop = [\"boundary_layer_height\", \"total_column_integrated_water_vapour\"] # missing_count: 4375\n",
    "# df.drop(columns=maybe_drop, inplace=True)"
   ]
  },
  {
   "cell_type": "code",
   "execution_count": 21,
   "id": "fc4421c0",
   "metadata": {},
   "outputs": [
    {
     "name": "stdout",
     "output_type": "stream",
     "text": [
      "\n",
      "[INFO] Missing values:\n",
      "                                      missing_count  missing_%\n",
      "snow_depth                                    88259      11.80\n",
      "boundary_layer_height                          4368       0.58\n",
      "total_column_integrated_water_vapour           4368       0.58\n"
     ]
    }
   ],
   "source": [
    "# Checking missing value\n",
    "missing = df.isnull().sum()\n",
    "missing_percent = (missing / len(df) * 100).round(2)\n",
    "missing_df = pd.DataFrame({\n",
    "    \"missing_count\": missing,\n",
    "    \"missing_%\": missing_percent\n",
    "})\n",
    "missing_df = missing_df[missing_df[\"missing_count\"] > 0].sort_values(by=\"missing_count\", ascending=False)\n",
    "print(\"\\n[INFO] Missing values:\")\n",
    "print(missing_df)"
   ]
  },
  {
   "cell_type": "code",
   "execution_count": 22,
   "id": "79ca72d7",
   "metadata": {},
   "outputs": [
    {
     "name": "stdout",
     "output_type": "stream",
     "text": [
      "[INFO] Số dòng còn thiếu:  0\n"
     ]
    }
   ],
   "source": [
    "# Điền phần thiếu nhỏ bằng nội suy tuyến tính hoặc giá trị gần nhất\n",
    "df.set_index(\"date\", inplace=True)\n",
    "df.interpolate(method=\"time\", limit_direction=\"both\", inplace=True)\n",
    "df.ffill(inplace=True)\n",
    "df.bfill(inplace=True)\n",
    "print(\"[INFO] Số dòng còn thiếu: \", df.isnull().sum().sum())\n"
   ]
  },
  {
   "cell_type": "code",
   "execution_count": null,
   "id": "70b7082b",
   "metadata": {},
   "outputs": [],
   "source": [
    "drop_cols = [\"weather_code\"]\n",
    "df.drop(columns=drop_cols, inplace=True)"
   ]
  },
  {
   "cell_type": "code",
   "execution_count": 24,
   "id": "4185f084",
   "metadata": {},
   "outputs": [],
   "source": [
    "df.reset_index(inplace=True)\n",
    "df[\"date\"] = pd.to_datetime(df[\"date\"])\n",
    "df[\"month\"] = df[\"date\"].dt.month\n",
    "\n",
    "def month_to_season(month):\n",
    "    if month in [12, 1, 2]:\n",
    "        return 4 # Winter\n",
    "    elif month in [3, 4, 5]:\n",
    "        return 1 # Spring\n",
    "    elif month in [6, 7, 8]:\n",
    "        return 2 # Summer\n",
    "    elif month in [9, 10, 11]:\n",
    "        return 3 # Autumn\n",
    "\n",
    "df[\"season\"] = df[\"month\"].apply(month_to_season)\n",
    "\n",
    "df.drop(columns=\"month\", inplace=True)\n",
    "\n",
    "df['season_sin'] = np.sin(2 * np.pi * df['season'] / 4)\n",
    "df['season_cos'] = np.cos(2 * np.pi * df['season'] / 4)\n",
    "df = df.drop('season', axis=1)\n",
    "\n",
    "# Đưa cột season về vị trí sau date\n",
    "cols = df.columns.tolist()\n",
    "cols.insert(1, cols.pop(cols.index(\"season_sin\")))\n",
    "cols.insert(2, cols.pop(cols.index(\"season_cos\")))\n",
    "df = df[cols]"
   ]
  },
  {
   "cell_type": "code",
   "execution_count": 25,
   "id": "0908a681",
   "metadata": {},
   "outputs": [],
   "source": [
    "wind_direction_10m_rad = np.deg2rad(df[\"wind_direction_10m\"])\n",
    "\n",
    "df[\"wind_direction_10m_sin\"] = np.sin(wind_direction_10m_rad)\n",
    "df[\"wind_direction_10m_cos\"] = np.cos(wind_direction_10m_rad)\n",
    "\n",
    "wind_direction_100m_rad = np.deg2rad(df[\"wind_direction_100m\"])\n",
    "\n",
    "df[\"wind_direction_100m_sin\"] = np.sin(wind_direction_100m_rad)\n",
    "df[\"wind_direction_100m_cos\"] = np.cos(wind_direction_100m_rad)\n",
    "\n",
    "pos_10m = df.columns.get_loc(\"wind_direction_10m\")\n",
    "pos_100m = df.columns.get_loc(\"wind_direction_100m\")\n",
    "\n",
    "df.insert(pos_10m + 1, \"wind_direction_10m_sin\", df.pop(\"wind_direction_10m_sin\"))\n",
    "df.insert(pos_10m + 2, \"wind_direction_10m_cos\", df.pop(\"wind_direction_10m_cos\"))\n",
    "\n",
    "df.insert(pos_100m + 1, \"wind_direction_100m_sin\", df.pop(\"wind_direction_100m_sin\"))\n",
    "df.insert(pos_100m + 2, \"wind_direction_100m_cos\", df.pop(\"wind_direction_100m_cos\"))\n",
    "\n",
    "df.drop(columns=[\"wind_direction_10m\", \"wind_direction_100m\"], inplace=True)"
   ]
  },
  {
   "cell_type": "code",
   "execution_count": 26,
   "id": "030ef366",
   "metadata": {},
   "outputs": [
    {
     "name": "stdout",
     "output_type": "stream",
     "text": [
      "[INFO] Copy saved to: C:\\Users\\ADMIN\\MyProject\\School_Projects\\WeatherForecastML-DM\\data\\processed\\clean_hourly_weather.csv\n"
     ]
    }
   ],
   "source": [
    "# Save a copy to a new file for cleaning\n",
    "output_path = Path(\"../../data/processed/clean_hourly_weather.csv\")\n",
    "df.to_csv(output_path, index=False)\n",
    "print(f\"[INFO] Copy saved to: {output_path.resolve()}\")"
   ]
  }
 ],
 "metadata": {
  "kernelspec": {
   "display_name": ".venv",
   "language": "python",
   "name": "python3"
  },
  "language_info": {
   "codemirror_mode": {
    "name": "ipython",
    "version": 3
   },
   "file_extension": ".py",
   "mimetype": "text/x-python",
   "name": "python",
   "nbconvert_exporter": "python",
   "pygments_lexer": "ipython3",
   "version": "3.13.3"
  }
 },
 "nbformat": 4,
 "nbformat_minor": 5
}
